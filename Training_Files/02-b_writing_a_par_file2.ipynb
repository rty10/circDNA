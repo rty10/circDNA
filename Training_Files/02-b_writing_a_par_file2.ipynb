{
 "cells": [
  {
   "cell_type": "code",
   "execution_count": null,
   "metadata": {},
   "outputs": [],
   "source": [
    "import os\n",
    "import numpy as np\n",
    "import pandas as pd\n",
    "path = os.getcwd()"
   ]
  },
  {
   "cell_type": "code",
   "execution_count": null,
   "metadata": {},
   "outputs": [],
   "source": [
    "header=\"141 # base-pairs\\n0 # ***local base-pair & step parameters***\\n\"\n",
    "\n",
    "dfpar = pd.read_csv(\"test_dnapar.par\", sep='\\s+', skiprows=2)\n",
    "\n",
    "parheader = dfpar.columns.to_list()\n"
   ]
  },
  {
   "cell_type": "code",
   "execution_count": null,
   "metadata": {},
   "outputs": [],
   "source": [
    "dfpar"
   ]
  },
  {
   "cell_type": "code",
   "execution_count": null,
   "metadata": {},
   "outputs": [],
   "source": [
    "#dfpar[1:].Twist = dfpar[1:].Twist.mean()\n",
    "dfpar.loc[1:, 'Twist'] = dfpar[1:].Twist.mean()\n",
    "dfpar"
   ]
  },
  {
   "cell_type": "code",
   "execution_count": null,
   "metadata": {},
   "outputs": [],
   "source": [
    "outfile = open('1kx5_mean-Tw.par', 'w')\n",
    "\n",
    "outfile.write(header)\n",
    "\n",
    "outfile.write(\"{:<4}{:>10}{:>10}{:>10}{:>10}{:>10}{:>10}{:>10}{:>10}{:>10}{:>10}{:>10}{:>10}\\n\".format(*parheader))\n",
    "\n",
    "for i in range(0, len(dfpar)):\n",
    "    outfile.write(\"{:<4}{:>10}{:>10}{:>10}{:>10}{:>10}{:>10}{:>10}{:>10}{:>10}{:>10}{:>10}{:>10}\\n\".format(\n",
    "            dfpar.loc[i, '#'], \n",
    "            round(dfpar.loc[i, 'Shear'],3), round(dfpar.loc[i, 'Stretch'],3), round(dfpar.loc[i, 'Stagger'],3),\n",
    "            round(dfpar.loc[i, 'Buckle'],3),round(dfpar.loc[i, 'Prop-Tw'],3), round(dfpar.loc[i, 'Opening'],3),\n",
    "            round(dfpar.loc[i, 'Shift'],3), round(dfpar.loc[i, 'Slide'],3), round(dfpar.loc[i, 'Rise'],3),\n",
    "            round(dfpar.loc[i, 'Tilt'],3),round(dfpar.loc[i, 'Roll'],3), round(dfpar.loc[i, 'Twist'],3)\n",
    "    ))\n",
    "\n",
    "outfile.close()"
   ]
  },
  {
   "cell_type": "code",
   "execution_count": null,
   "metadata": {},
   "outputs": [],
   "source": []
  }
 ],
 "metadata": {
  "kernelspec": {
   "display_name": "Python 3",
   "language": "python",
   "name": "python3"
  },
  "language_info": {
   "codemirror_mode": {
    "name": "ipython",
    "version": 3
   },
   "file_extension": ".py",
   "mimetype": "text/x-python",
   "name": "python",
   "nbconvert_exporter": "python",
   "pygments_lexer": "ipython3",
   "version": "3.7.6"
  }
 },
 "nbformat": 4,
 "nbformat_minor": 4
}
