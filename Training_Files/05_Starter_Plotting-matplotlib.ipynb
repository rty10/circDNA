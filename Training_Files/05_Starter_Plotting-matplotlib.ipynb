{
 "cells": [
  {
   "cell_type": "markdown",
   "metadata": {},
   "source": [
    "## Notebook Outcomes\n",
    "\n",
    "In this notebook we will learn:\n",
    "<ul>\n",
    "    <li>how to make basic plots in matplotlib,</li>\n",
    "    <li>about the different plotting functionality</li>\n",
    "    <li>how to make figures with subplots</li>\n",
    "    <li>get practice plotting real data sets</li>\n",
    "</ul>"
   ]
  },
  {
   "cell_type": "code",
   "execution_count": null,
   "metadata": {},
   "outputs": [],
   "source": [
    "import numpy as np\n",
    "import pandas as pd"
   ]
  },
  {
   "cell_type": "markdown",
   "metadata": {},
   "source": [
    "# Basic Plotting\n",
    "\n",
    "A picture is worth a thousand words. Often times it is easier and more informative to plot the data we are examining then to rely on descriptive statistics alone. In this notebook we'll go over the minimal `python` plotting skills you'll need to get through this boot camp.\n",
    "\n",
    "## `matplotlib`\n",
    "\n",
    "A number of you have experience with MATLAB. `matplotlib` was a project started by John Hunter in 2002 to enable MATLAB like plotting in python. If you've done a lot of plotting in MATLAB matplotlib will come very naturally to you. If you've never even heard of MATLAB, don't worry! `matplotlib` is very intuitive and you'll be plotting like a pro in no time.\n",
    "\n",
    "Let's start by importing the package."
   ]
  },
  {
   "cell_type": "code",
   "execution_count": null,
   "metadata": {},
   "outputs": [],
   "source": [
    "# We will be using the pyplot subpackage\n",
    "# it is standard to call it plt\n",
    "import matplotlib.pyplot as plt"
   ]
  },
  {
   "cell_type": "markdown",
   "metadata": {},
   "source": [
    "### A First Plot\n",
    "\n",
    "Let's jump right in and make our first plot."
   ]
  },
  {
   "cell_type": "code",
   "execution_count": null,
   "metadata": {},
   "outputs": [],
   "source": [
    "# Here's our data\n",
    "x = [0,1,2,3,4,5,6,7,8,9,10]\n",
    "y = [2*i - 3 for i in x]\n",
    "\n",
    "# plt.plot will make the plot\n",
    "# First put what you want on the x, then the y\n",
    "plt.plot(x,y)\n",
    "\n",
    "# Always end your plotting block with plt.show\n",
    "# in jupyter this makes sure that the plot displays \n",
    "# properly\n",
    "plt.show()"
   ]
  },
  {
   "cell_type": "markdown",
   "metadata": {},
   "source": [
    "### What Happened?\n",
    "\n",
    "So what happened when we ran the above code?\n",
    "\n",
    "`matplotlib` creates a figure object, and on that object it places a subplot object, and finally it places the points on the subplot then connects the points with straight lines.\n",
    "\n",
    "We'll return to the topic of subplots later in the notebook\n",
    "\n",
    "Now you try plotting the following `x` and `y`."
   ]
  },
  {
   "cell_type": "code",
   "execution_count": null,
   "metadata": {},
   "outputs": [],
   "source": [
    "x = 10*np.linspace(-5,5,100)\n",
    "y = x**2 - 3"
   ]
  },
  {
   "cell_type": "code",
   "execution_count": null,
   "metadata": {},
   "outputs": [],
   "source": [
    "# Plot here\n",
    "\n",
    "plt.plot(x,y)\n",
    "plt.show()\n",
    "plt.clf()\n",
    "\n",
    "\n",
    "\n",
    "\n",
    "\n"
   ]
  },
  {
   "cell_type": "markdown",
   "metadata": {},
   "source": [
    "### Getting More Control\n",
    "\n",
    "#### Making The Figure Object\n",
    "\n",
    "We can have more control over how the plot itself looks by creating the figure object ourselves."
   ]
  },
  {
   "cell_type": "code",
   "execution_count": null,
   "metadata": {},
   "outputs": [],
   "source": [
    "# plt.figure() will make the figure object\n",
    "# figsize can control how large it is (width,height)\n",
    "plt.figure(figsize = (10,12))\n",
    "\n",
    "# This still creates the subplot object\n",
    "# that we plot on\n",
    "plt.plot(x,y)\n",
    "\n",
    "# we can add axis labels\n",
    "# and control their fontsize\n",
    "plt.xlabel(\"x\", fontsize = 16)\n",
    "plt.ylabel(\"y\", fontsize = 16)\n",
    "\n",
    "# we can set the plot axis limits like so\n",
    "plt.xlim((-20,20))\n",
    "plt.ylim(-100,100)\n",
    "\n",
    "# Also a title\n",
    "plt.title(\"A Plot Title\", fontsize = 20)\n",
    "\n",
    "# Now we show the plot\n",
    "plt.show()"
   ]
  },
  {
   "cell_type": "markdown",
   "metadata": {},
   "source": [
    "#### Controlling How the Plotted Data Looks\n",
    "\n",
    "We can control the appearance of what is plotted. Here's a quick cheatsheet of easy to use options:\n",
    "\n",
    "\n",
    "\n",
    "| Color           | Description  |\n",
    "| :-------------: |:------------:|\n",
    "| r               | red          |\n",
    "| b               | blue         |\n",
    "| k               | black        |\n",
    "| g               | green        |\n",
    "| y               | yellow       |\n",
    "| m               | magenta      |\n",
    "| c               | cyan         |\n",
    "| w               | white        |\n",
    "\n",
    "|Line Style | Description   |\n",
    "|:---------:|:-------------:|\n",
    "| -         | Solid line    |\n",
    "| --        | Dashed line   |\n",
    "| :         | Dotted line   |\n",
    "| -.        | Dash-dot line |\n",
    "\n",
    "| Marker | Description    |\n",
    "|:------:|:--------------:|\n",
    "|o       | Circle         |\n",
    "|+       | Plus Sign      |\n",
    "|*       | Asterisk       |\n",
    "|.       | Point          |\n",
    "| x      | Cross          |\n",
    "| s      | Square         |\n",
    "|d       | Diamond        |\n",
    "|^       | Up Triangle    |\n",
    "|<       | Right Triangle |\n",
    "|>       | Left Triangle  |\n",
    "|p       | Pentagram      |\n",
    "| h      | hexagram       |\n"
   ]
  },
  {
   "cell_type": "code",
   "execution_count": null,
   "metadata": {},
   "outputs": [],
   "source": [
    "# plt.figure() will make the figure object\n",
    "# figsize can control how large it is (width,height)\n",
    "plt.figure(figsize = (10,12))\n",
    "\n",
    "# This still creates the subplot object\n",
    "# that we plot on\n",
    "# This will make our plot magenta pentagrams\n",
    "# label will allow us to add a legend to the plot\n",
    "plt.plot(x,y,'mp', label=\"points\")\n",
    "\n",
    "## We can even plot two things on the same plot\n",
    "plt.plot(x+10,y-100,'g--', label=\"shifted line\")\n",
    "\n",
    "# we can add axis labels\n",
    "# and control their fontsize\n",
    "plt.xlabel(\"x\", fontsize = 16)\n",
    "plt.ylabel(\"y\", fontsize = 16)\n",
    "\n",
    "# Also a title\n",
    "plt.title(\"A Plot Title\", fontsize = 20)\n",
    "\n",
    "# plt.legend() adds the legend to the plot\n",
    "plt.legend(fontsize=14)\n",
    "\n",
    "\n",
    "# Now we show the plot\n",
    "plt.show()"
   ]
  },
  {
   "cell_type": "code",
   "execution_count": null,
   "metadata": {},
   "outputs": [],
   "source": [
    "## Now you try with the following data\n",
    "x = 10*np.random.random(100) - 5\n",
    "y = x**3 - x**2 + x"
   ]
  },
  {
   "cell_type": "code",
   "execution_count": null,
   "metadata": {},
   "outputs": [],
   "source": [
    "# Plot it here\n",
    "# What's the best way to plot it?\n",
    "\n",
    "plt.figure(figsize=(10,5))\n",
    "\n",
    "plt.plot(x,y, 'ko', label='raw data')\n",
    "plt.plot(x+10,y, 'bs', label='x-shift by 10')\n",
    "plt.plot(x,y+10, 'rs', label='y-shift by 10')\n",
    "plt.plot(x+10, y+10, 'gp', label='x and y shifted by 10')\n",
    "\n",
    "plt.xlim(-15, 15)\n",
    "plt.ylim(-150,150)\n",
    "\n",
    "plt.xlabel(\"x\", fontsize = 16)\n",
    "plt.ylabel(\"y\", fontsize = 16)\n",
    "plt.title(\"A Plot Title\", fontsize = 20)\n",
    "plt.legend(fontsize=14)\n",
    "\n",
    "plt.show()\n",
    "\n",
    "\n",
    "\n",
    "\n",
    "\n",
    "\n",
    "\n"
   ]
  },
  {
   "cell_type": "markdown",
   "metadata": {},
   "source": [
    "### Subplots\n",
    "\n",
    "What if we want to plot more than one thing in the same figure? We'll want to make some subplots."
   ]
  },
  {
   "cell_type": "code",
   "execution_count": null,
   "metadata": {},
   "outputs": [],
   "source": [
    "# plt.subplots makes a figure object\n",
    "# then populates it with subplots\n",
    "# the first number is the number of rows\n",
    "# the second number is the number of columns\n",
    "# so this makes a 2 by 2 subplot matrix\n",
    "# fig is the figure object\n",
    "# axes is a matrix containing the four subplots\n",
    "fig, axes = plt.subplots(2, 2, figsize = (10,8))\n",
    "\n",
    "# We can plot like before but instead of plt.plot\n",
    "# we use axes[i,j].plot\n",
    "# A random walk on axes[0,0]\n",
    "axes[0,0].plot(np.random.randn(20).cumsum(),'r--')\n",
    "# I can set x and y labels on subplots like so\n",
    "axes[0,0].set_xlabel(\"X\")\n",
    "axes[0,0].set_ylabel(\"y\")\n",
    "\n",
    "\n",
    "# .hist() plots a histogram, you can control the number of \n",
    "# bins with bins\n",
    "axes[0,1].hist(np.random.randn(1000), bins = 50)\n",
    "\n",
    "# A scatter plot on axes[0,0]\n",
    "# .scatter() is a quicker way to produce a scatter plot\n",
    "axes[1,0].scatter(np.random.random(20), np.random.randn(20), color = 'g')\n",
    "\n",
    "# Some text on axes[1,1]\n",
    "axes[1,1].text(0.2, 0.5, \"Hi Mom\", fontsize = 14)\n",
    "\n",
    "\n",
    "plt.show()"
   ]
  },
  {
   "cell_type": "markdown",
   "metadata": {},
   "source": [
    "Now you practice!"
   ]
  },
  {
   "cell_type": "code",
   "execution_count": null,
   "metadata": {},
   "outputs": [],
   "source": [
    "# the data\n",
    "x1 = 2*np.random.randn(500) + 3\n",
    "x2 = np.random.randn(500) + 4\n",
    "\n",
    "y = x1 + x1**2 + np.log(x2) + .5*np.random.randn(500)"
   ]
  },
  {
   "cell_type": "code",
   "execution_count": null,
   "metadata": {},
   "outputs": [],
   "source": [
    "# Make a 3 by 3 subplot\n",
    "# Have histograms of x1, x2, and y in the diagonal\n",
    "# plot x1 vs x2 and x1 vs y in the remaining columns of the top row\n",
    "# plot x2 vs y in the second row 3rd column\n",
    "\n",
    "\n",
    "fig, axes = plt.subplots(3, 3, figsize = (12,12))\n",
    "\n",
    "axes[0,0].hist(x1, bins = 50)\n",
    "axes[1,1].hist(x2, bins = 50)\n",
    "axes[2,2].hist(y,  bins = 50)\n",
    "\n",
    "axes[0,1].scatter(x1, x2)\n",
    "axes[0,2].scatter(x1, y)\n",
    "\n",
    "axes[1,2].scatter(x2, y)\n",
    "\n",
    "\n",
    "axes[1,0].text(0.2, 0.5, \"Nope\", fontsize = 14)\n",
    "axes[2,0].text(0.2, 0.5, \"Nada\", fontsize = 14)\n",
    "axes[2,1].text(0.2, 0.5, \"Nothing\\nto\\nsee\", fontsize = 14)\n",
    "\n",
    "\n",
    "plt.show()\n",
    "\n",
    "\n",
    "\n",
    "\n",
    "\n"
   ]
  },
  {
   "cell_type": "markdown",
   "metadata": {},
   "source": [
    "### Plotting Data\n",
    "\n",
    "Finally we'll see how we can use `matplotlib` to examine some real data.\n",
    "\n",
    "#### JR Smith's Attempted Shots 2015-16 NBA Season\n",
    "\n",
    "We'll plot the $(x,y)$ position of JR Smith's 2015-16 NBA Season shots. We'll make the made shots blue dots and the missed shots red X's"
   ]
  },
  {
   "cell_type": "code",
   "execution_count": null,
   "metadata": {},
   "outputs": [],
   "source": [
    "# Read the Data\n",
    "shots = pd.read_csv(\"JR_Smith_Shots_2015_16.csv\")"
   ]
  },
  {
   "cell_type": "code",
   "execution_count": null,
   "metadata": {},
   "outputs": [],
   "source": [
    "shots.head()"
   ]
  },
  {
   "cell_type": "code",
   "execution_count": null,
   "metadata": {},
   "outputs": [],
   "source": [
    "# Make the figure\n",
    "plt.figure(figsize=(12,14))\n",
    "\n",
    "# We'll use plt.scatter()\n",
    "# Made Shots\n",
    "plt.scatter(shots.loc[shots.SHOT_MADE_FLAG == 1,'LOC_X'], \n",
    "            shots.loc[shots.SHOT_MADE_FLAG == 1,'LOC_Y'],\n",
    "           marker = 'o',c='blue')\n",
    "# Missed Shots\n",
    "plt.scatter(shots.loc[shots.SHOT_MADE_FLAG == 0,'LOC_X'],\n",
    "           shots.loc[shots.SHOT_MADE_FLAG == 0,'LOC_Y'],\n",
    "           marker = 'x', c='red')\n",
    "\n",
    "\n",
    "plt.show()"
   ]
  },
  {
   "cell_type": "markdown",
   "metadata": {},
   "source": [
    "#### Beer ABV vs IBU\n",
    "\n",
    "Your turn.\n",
    "\n",
    "Explore the following beer data. Play around plotting the `ABV` by the `IBU`."
   ]
  },
  {
   "cell_type": "code",
   "execution_count": null,
   "metadata": {},
   "outputs": [],
   "source": [
    "# Read in the data\n",
    "beer = pd.read_csv(\"beer.csv\")"
   ]
  },
  {
   "cell_type": "code",
   "execution_count": null,
   "metadata": {},
   "outputs": [],
   "source": [
    "beer.head()"
   ]
  },
  {
   "cell_type": "code",
   "execution_count": null,
   "metadata": {},
   "outputs": [],
   "source": [
    "beer['Beer_Type'].unique()"
   ]
  },
  {
   "cell_type": "code",
   "execution_count": null,
   "metadata": {},
   "outputs": [],
   "source": [
    "# Plot here\n",
    "\n",
    "plt.figure()#figsize=(12,14))\n",
    "\n",
    "plt.scatter(beer.loc[beer.Beer_Type == 'Stout','IBU'], \n",
    "            beer.loc[beer.Beer_Type == 'Stout','ABV'],\n",
    "           marker = 'o',c='blue')\n",
    "\n",
    "plt.scatter(beer.loc[beer.Beer_Type == 'IPA','IBU'],\n",
    "           beer.loc[beer.Beer_Type == 'IPA','ABV'],\n",
    "           marker = 'x', c='red')\n",
    "\n",
    "\n",
    "plt.show()\n",
    "\n",
    "\n"
   ]
  },
  {
   "cell_type": "markdown",
   "metadata": {},
   "source": [
    "## Plotting the test_dnapar file"
   ]
  },
  {
   "cell_type": "code",
   "execution_count": null,
   "metadata": {},
   "outputs": [],
   "source": [
    "## Load the test_dnapar file into a dataframe\n"
   ]
  },
  {
   "cell_type": "code",
   "execution_count": null,
   "metadata": {},
   "outputs": [],
   "source": [
    "## Draw a line plot of Roll and Twist side-by-side\n"
   ]
  },
  {
   "cell_type": "code",
   "execution_count": null,
   "metadata": {},
   "outputs": [],
   "source": [
    "## Draw a line plot of Shift, Slide, and Rise"
   ]
  },
  {
   "cell_type": "code",
   "execution_count": null,
   "metadata": {},
   "outputs": [],
   "source": [
    "## Draw a scatter plot with Roll as the x-axis and Twist as the y\n",
    "\n",
    "## Repeat for Tilt vs. Twist and for Rise vs. Twist\n",
    "\n"
   ]
  },
  {
   "cell_type": "markdown",
   "metadata": {},
   "source": [
    "## Advanced: Plotting the test_dnarefframe.dat file"
   ]
  },
  {
   "cell_type": "code",
   "execution_count": null,
   "metadata": {},
   "outputs": [],
   "source": [
    "## load the test_dnarefframe file\n",
    "\n",
    "## A refframe frame has 5 lines for every base-pair\n",
    "## the nucleotide base-pair\n",
    "## the base-pair origin\n",
    "## and three lines that describe the reference frame, or coordinate frame axis, of the base-pair\n",
    "\n",
    "## Go through the file and store only the origin values into a dataframe with x, y, and z column labels\n"
   ]
  },
  {
   "cell_type": "code",
   "execution_count": null,
   "metadata": {},
   "outputs": [],
   "source": [
    "## Create a 3-D scatter plot of this dataframe\n",
    "\n",
    "\n",
    "\n",
    "\n"
   ]
  },
  {
   "cell_type": "code",
   "execution_count": null,
   "metadata": {},
   "outputs": [],
   "source": [
    "## You can calculate the Euclidian distance of each origin relative to another\n",
    "## This can be done using a specific module:\n",
    "\n",
    "from scipy.spatial import distance \n",
    "\n",
    "## in this is a function: pdist()\n",
    "\n",
    "## Look up information on pdist() here: https://docs.scipy.org/doc/scipy/reference/spatial.distance.html\n",
    "\n",
    "## Calculate the pdist of the refframe origins and then create a heatmap plot\n",
    "## This plot will be a square plot that shows different colors based on how close or how far two points are\n",
    "\n",
    "\n",
    "\n",
    "\n",
    "\n"
   ]
  },
  {
   "cell_type": "markdown",
   "metadata": {},
   "source": [
    "### The End\n",
    "\n",
    "That's it for this intro notebook! If you want to know more check out the `matplotlib` docs here, <a href=\"https://matplotlib.org/\">https://matplotlib.org/</a>, or just do a web search if you have a specific question.\n",
    "\n",
    "You should now be ready for the Basic Plotting - Skill Check Notebook!"
   ]
  },
  {
   "cell_type": "code",
   "execution_count": null,
   "metadata": {},
   "outputs": [],
   "source": []
  }
 ],
 "metadata": {
  "kernelspec": {
   "display_name": "Python 3 (ipykernel)",
   "language": "python",
   "name": "python3"
  },
  "language_info": {
   "codemirror_mode": {
    "name": "ipython",
    "version": 3
   },
   "file_extension": ".py",
   "mimetype": "text/x-python",
   "name": "python",
   "nbconvert_exporter": "python",
   "pygments_lexer": "ipython3",
   "version": "3.7.11"
  }
 },
 "nbformat": 4,
 "nbformat_minor": 2
}
