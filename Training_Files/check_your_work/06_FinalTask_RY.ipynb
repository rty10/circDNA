{
 "cells": [
  {
   "cell_type": "raw",
   "metadata": {},
   "source": [
    "In this notebook, produce the following plots using the test_dnapdb.out file\n",
    "\n",
    "- Produce a 3D scatter plot of the Ox, Oy, Oz origin points of the structure\n",
    "\n",
    "- Plot the refined major and refinded minor groove widths\n",
    "\n",
    "- Plot the ratio of the P-P Virtual Bond distances between Strand I and II\n",
    "\n"
   ]
  }
 ],
 "metadata": {
  "kernelspec": {
   "display_name": "Python 3",
   "language": "python",
   "name": "python3"
  },
  "language_info": {
   "codemirror_mode": {
    "name": "ipython",
    "version": 3
   },
   "file_extension": ".py",
   "mimetype": "text/x-python",
   "name": "python",
   "nbconvert_exporter": "python",
   "pygments_lexer": "ipython3",
   "version": "3.7.6"
  }
 },
 "nbformat": 4,
 "nbformat_minor": 4
}
