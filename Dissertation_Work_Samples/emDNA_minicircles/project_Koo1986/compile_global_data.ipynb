{
 "cells": [
  {
   "cell_type": "code",
   "execution_count": null,
   "metadata": {},
   "outputs": [],
   "source": [
    "import os, sys, math, scipy\n",
    "import pandas as pd\n",
    "import numpy as np\n",
    "\n",
    "sys.path.append(\"/home/rty10/Documents/scripts/analysis/\")\n",
    "import dna_analysis\n",
    "import circle_data_compile as opt_compile\n",
    "\n",
    "path = os.getcwd()\n",
    "\n",
    "optpath  = path + '/optimization_data'\n",
    "freepath = path + '/optimization_data_free'\n",
    "\n",
    "forcefieldpath = \"/home/rty10/Documents/forcefields\""
   ]
  },
  {
   "cell_type": "markdown",
   "metadata": {
    "jp-MarkdownHeadingCollapsed": true,
    "tags": []
   },
   "source": [
    "## Compile: all opt global data to single .csv"
   ]
  },
  {
   "cell_type": "code",
   "execution_count": null,
   "metadata": {
    "scrolled": true
   },
   "outputs": [],
   "source": [
    "circles = sorted([ i.split('.')[0] for i in os.listdir(optpath) if i.endswith('.log') ])\n",
    "\n",
    "df = pd.DataFrame()\n",
    "\n",
    "for i in range(len(circles)):\n",
    "    name = circles[i]\n",
    "    \n",
    "    df.at[i,'length']   = 150\n",
    "    df.at[i,'state']    = name.split('_')[1]\n",
    "    df.at[i,'sequence'] = name.split('_')[2]\n",
    "    df.at[i,'config']     = 'circ'\n",
    "    if 'ideal' in name:\n",
    "        df.at[i,'forcefield'] = 'ideal'\n",
    "        df.at[i,'ff_type']    = 'dim'\n",
    "    else:\n",
    "        df.at[i,'forcefield'] = name.split('_')[3].split('-')[0]\n",
    "        df.at[i,'ff_type']    = name.split('_')[3].split('-')[1]\n",
    "    \n",
    "    df = opt_compile.log_file_data(optpath+'/'+name+'.log', i, df)\n",
    "    df = opt_compile.refframe_file_data(optpath+'/'+name+'.dat', i, df, 150)\n",
    "    df = opt_compile.topology_file_data(optpath+'/topo_'+name+'.txt', i, df)        \n",
    "    del name\n",
    "    \n",
    "df['eopt_bend']=df.eopt_tilt+df.eopt_roll\n",
    "df[['length','lk']]=df[['length','lk']].astype(int)\n",
    "df = df.sort_values(by=['state','config','sequence'])\n",
    "df = df.reset_index(drop=True)"
   ]
  },
  {
   "cell_type": "code",
   "execution_count": null,
   "metadata": {},
   "outputs": [],
   "source": [
    "df.to_csv(\"circ150_koo86_dataset\")\n",
    "del df"
   ]
  },
  {
   "cell_type": "code",
   "execution_count": null,
   "metadata": {
    "scrolled": true
   },
   "outputs": [],
   "source": [
    "df"
   ]
  },
  {
   "cell_type": "code",
   "execution_count": null,
   "metadata": {},
   "outputs": [],
   "source": [
    "df.forcefield.unique()"
   ]
  },
  {
   "cell_type": "code",
   "execution_count": null,
   "metadata": {},
   "outputs": [],
   "source": [
    "df = pd.read_csv(\"circ150_koo86_dataset\", index_col=0)\n",
    "\n",
    "df.head(10)"
   ]
  },
  {
   "cell_type": "code",
   "execution_count": null,
   "metadata": {},
   "outputs": [],
   "source": [
    "del df\n",
    "\n",
    "del circles"
   ]
  },
  {
   "cell_type": "markdown",
   "metadata": {
    "jp-MarkdownHeadingCollapsed": true,
    "tags": []
   },
   "source": [
    "## Compile: all opt structural data to single .csv"
   ]
  },
  {
   "cell_type": "code",
   "execution_count": null,
   "metadata": {},
   "outputs": [],
   "source": [
    "circles_o = sorted([ i.split('.')[0] for i in os.listdir(optpath) if i.endswith('.par') ])\n",
    "circles_f = sorted([ i.split('.')[0] for i in os.listdir(freepath) if i.endswith('.par') ])\n",
    "circles = circles_o+circles_f\n",
    "\n",
    "NCIRC = 150\n",
    "for theta in ['tilt','roll','twist','shift','slide','rise']:\n",
    "    \n",
    "    df = pd.DataFrame(columns=[i for i in range(1, NCIRC+1)])\n",
    "\n",
    "    for i in range(len(circles)):\n",
    "        name = circles[i]\n",
    "\n",
    "        df.at[i,'state']    = name.split('_')[1]\n",
    "        df.at[i,'sequence'] = name.split('_')[2]\n",
    "        if 'ideal' in name:\n",
    "            df.at[i,'forcefield'] = 'ideal'\n",
    "            df.at[i,'ff_type']    = 'dim'\n",
    "        else:\n",
    "            df.at[i,'forcefield'] = name.split('_')[3].split('-')[0]\n",
    "            df.at[i,'ff_type']    = name.split('_')[3].split('-')[1]\n",
    "        \n",
    "        if name in circles_o:\n",
    "            df.at[i,'config']     = 'circ'\n",
    "            pardf = dna_analysis.df_read_bpsteppars(optpath+'/'+name+'.par', bend=False)\n",
    "            \n",
    "        elif name in circles_f:\n",
    "            df.at[i,'config']     = 'free'\n",
    "            pardf = dna_analysis.df_read_bpsteppars(freepath+'/'+name+'.par', bend=False)\n",
    "        else:\n",
    "            print(name)\n",
    "        \n",
    "        pardf = pardf[theta].drop([0],axis=0).T\n",
    "        \n",
    "        for j in range(1, NCIRC+1):\n",
    "            df.at[i, j] = pardf[j]\n",
    "        \n",
    "        del pardf, name\n",
    "        \n",
    "    df=df[['state','sequence','config','forcefield','ff_type']+[i for i in range(1, NCIRC+1)]]\n",
    "    \n",
    "    df.to_csv(\"koo86_par-\"+theta+\"_dataset\")\n",
    "    del df\n",
    "del circles_o, circles_f, circles, NCIRC"
   ]
  },
  {
   "cell_type": "code",
   "execution_count": null,
   "metadata": {},
   "outputs": [],
   "source": []
  },
  {
   "cell_type": "markdown",
   "metadata": {
    "tags": []
   },
   "source": [
    "## Try: get energy per base-pair step for each par file, compile into single .csv"
   ]
  },
  {
   "cell_type": "code",
   "execution_count": null,
   "metadata": {},
   "outputs": [],
   "source": [
    "circles = sorted([ i.split('.')[0] for i in os.listdir(optpath) if i.endswith('.log') ])\n",
    "\n",
    "dataset = pd.read_csv(path+\"/datasets/circ150_koo86_dataset\", index_col=0)\n",
    "\n",
    "NCIRC = 150\n",
    "df = pd.DataFrame(columns=[i for i in range(1, NCIRC+1)])\n",
    "\n",
    "for i in range(len(circles)):\n",
    "    \n",
    "    name = circles[i]\n",
    "\n",
    "    df.at[i,'state']    = name.split('_')[1]\n",
    "    df.at[i,'sequence'] = name.split('_')[2]\n",
    "    if 'ideal' in name:\n",
    "        df.at[i,'forcefield'] = 'ideal'\n",
    "        df.at[i,'ff_type']    = 'dim'\n",
    "    else:\n",
    "        df.at[i,'forcefield'] = name.split('_')[3].split('-')[0]\n",
    "        df.at[i,'ff_type']    = name.split('_')[3].split('-')[1]\n",
    "\n",
    "    df.at[i,'config']     = 'circ'\n",
    "    pardf = dna_analysis.df_read_bpsteppars(optpath+'/'+name+'.par', bend=False)\n",
    "    if 'tet' in name:\n",
    "        pardf = dna_analysis._par_tetrameric(pardf)\n",
    "    \n",
    "    if 'ideal' in name:\n",
    "        FORCEFIELD=\"IdealDNA\"\n",
    "    elif \"olson\" in name:\n",
    "        FORCEFIELD=\"Olson1998\"\n",
    "    else:\n",
    "        FORCEFIELD=name.split('_')[3]\n",
    "    reststatedf = dna_analysis.df_read_intrinsic_state(forcefieldpath, FORCEFIELD)\n",
    "    forcecondf  = dna_analysis.df_read_force_constants(forcefieldpath, FORCEFIELD)\n",
    "    del FORCEFIELD\n",
    "\n",
    "    if 'tet' in name:\n",
    "        pardf = dna_analysis._par_energetic_analysis(pardf, reststatedf, forcecondf, tet=True)\n",
    "    else:\n",
    "        pardf = dna_analysis._par_energetic_analysis(pardf, reststatedf, forcecondf)\n",
    "        \n",
    "    for j in range(1, NCIRC+1):\n",
    "        df.at[i, j] = pardf.at[j, 'energy']\n",
    "    df.at[i, 'sum'] = df.loc[i][0:NCIRC].sum()\n",
    "    df.at[i, 'eopt']=dataset[(dataset['state']     == df.at[i, 'state'])\n",
    "                           &(dataset['sequence']   == df.at[i, 'sequence'])\n",
    "                           &(dataset['forcefield'] == df.at[i, 'forcefield'])\n",
    "                           &(dataset['ff_type']    == df.at[i, 'ff_type'])\n",
    "                           &(dataset['config']     == df.at[i, 'config'])].eopt.values[0]\n",
    "    del name\n",
    "    del pardf\n",
    "    del reststatedf, forcecondf\n",
    "\n",
    "df.to_csv(\"koo86_circ-energy_dataset\")\n",
    "del df"
   ]
  },
  {
   "cell_type": "code",
   "execution_count": null,
   "metadata": {},
   "outputs": [],
   "source": []
  }
 ],
 "metadata": {
  "kernelspec": {
   "display_name": "Python 3 (ipykernel)",
   "language": "python",
   "name": "python3"
  },
  "language_info": {
   "codemirror_mode": {
    "name": "ipython",
    "version": 3
   },
   "file_extension": ".py",
   "mimetype": "text/x-python",
   "name": "python",
   "nbconvert_exporter": "python",
   "pygments_lexer": "ipython3",
   "version": "3.8.12"
  }
 },
 "nbformat": 4,
 "nbformat_minor": 4
}
