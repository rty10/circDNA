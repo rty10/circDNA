{
 "cells": [
  {
   "cell_type": "code",
   "execution_count": null,
   "id": "495b05c4-8a01-45d2-93da-9b9ea7e15968",
   "metadata": {},
   "outputs": [],
   "source": [
    "import os, sys, math, scipy\n",
    "import pandas as pd\n",
    "import numpy as np\n",
    "\n",
    "sys.path.append(\"/home/rty10/Documents/scripts/analysis/\")\n",
    "import dna_analysis\n",
    "\n",
    "path = os.getcwd()\n",
    "optpath = path + '/optimization_data'"
   ]
  },
  {
   "cell_type": "code",
   "execution_count": null,
   "id": "b59a7f70-7d80-4be5-8821-9b2ae169f03e",
   "metadata": {},
   "outputs": [],
   "source": [
    "circles = [filename.split('.')[0] for filename in sorted(os.listdir(optpath)) if filename.endswith('.dat') and \"free\" not in filename]\n",
    "\n",
    "circles[0:5]"
   ]
  },
  {
   "cell_type": "code",
   "execution_count": null,
   "id": "957d53d7-1fc0-4f72-90fa-05a7027cc5af",
   "metadata": {},
   "outputs": [],
   "source": [
    "TRY=['A3N7', 'A4N6', 'A5N5','A6N4','A8N2','A9N1']\n",
    "\n",
    "df = pd.DataFrame()\n",
    "\n",
    "for item in TRY:\n",
    "    for filename in os.listdir(optpath):\n",
    "        if item in filename and filename.endswith('.dat') and \"free\" not in filename:\n",
    "            print(filename)\n",
    "            print(\"ellipiticity: \", round(dna_analysis._ellipticity(dna_analysis._pca_origindf(dna_analysis.df_read_refframe_origins(optpath+'/'+filename.split('.')[0]+'.dat'))), 3))\n",
    "            print()"
   ]
  },
  {
   "cell_type": "code",
   "execution_count": null,
   "id": "db546a40-4155-4d3a-8791-3354e3bf5656",
   "metadata": {},
   "outputs": [],
   "source": []
  }
 ],
 "metadata": {
  "kernelspec": {
   "display_name": "Python 3 (ipykernel)",
   "language": "python",
   "name": "python3"
  },
  "language_info": {
   "codemirror_mode": {
    "name": "ipython",
    "version": 3
   },
   "file_extension": ".py",
   "mimetype": "text/x-python",
   "name": "python",
   "nbconvert_exporter": "python",
   "pygments_lexer": "ipython3",
   "version": "3.8.12"
  }
 },
 "nbformat": 4,
 "nbformat_minor": 5
}
