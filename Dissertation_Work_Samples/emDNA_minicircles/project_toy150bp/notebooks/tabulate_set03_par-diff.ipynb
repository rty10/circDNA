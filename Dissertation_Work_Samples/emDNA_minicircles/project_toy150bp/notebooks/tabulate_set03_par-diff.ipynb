{
 "cells": [
  {
   "cell_type": "code",
   "execution_count": null,
   "metadata": {},
   "outputs": [],
   "source": [
    "import os, shutil\n",
    "import pandas as pd\n",
    "import numpy as np\n",
    "\n",
    "path = os.getcwd()\n",
    "\n",
    "if 'Young_Research' in path:\n",
    "    initialpath = 'C:\\\\Users\\\\Young_Research\\\\Documents\\\\Rutgers\\\\Research\\\\2020_PHY_MSc\\\\data\\\\initial_conditions\\\\jul2020'\n",
    "    pathff   = \"C:\\\\Users\\\\Young_Research\\\\Documents\\\\Rutgers\\\\Research\\\\2020_PHY_MSc\\\\data\\\\forcefields\"\n",
    "else:\n",
    "    pathff   = \"/home/rty10/Documents/Experiments/Optimizations/Opt_ForceFields\""
   ]
  },
  {
   "cell_type": "code",
   "execution_count": null,
   "metadata": {},
   "outputs": [],
   "source": [
    "incons      = ['pc14','pc15','or15']\n",
    "inseqs      = ['col05','col06','col07','col08','col09']\n",
    "\n",
    "def load_intrinsic_state(forcefield):\n",
    "    if '-crt' in forcefield:\n",
    "        ff = forcefield.replace('-crt','')\n",
    "    elif '-frt' in forcefield:\n",
    "        ff = forcefield.replace('-frt','')\n",
    "    else:\n",
    "        ff = forcefield\n",
    "    \n",
    "    infile = open(pathff+'/RestStateParameters/StepParameters_'+ff+'.txt', 'r')\n",
    "    indata = infile.readlines()\n",
    "    indata = [i.replace(\"={\",\" \").replace(\", \",\" \").replace(\"}\",\"\").rstrip('\\n').split() for i in indata]\n",
    "    header = ['dimer','Tilt','Roll','Twist','Shift','Slide','Rise']\n",
    "    for i in range(0, len(indata)):\n",
    "        for j, x in enumerate(indata[i]):\n",
    "            try:\n",
    "                indata[i][j] = float(x)\n",
    "            except ValueError:\n",
    "                pass\n",
    "    df1 = pd.DataFrame.from_records(indata, columns=header)\n",
    "    df1['Bend'] = np.sqrt(df1.Tilt**2 + df1.Roll**2)\n",
    "    df1 = df1.set_index('dimer')\n",
    "    del indata\n",
    "    return df1"
   ]
  },
  {
   "cell_type": "code",
   "execution_count": null,
   "metadata": {},
   "outputs": [],
   "source": [
    "if not os.path.exists('opt_pars-diff'):\n",
    "    os.mkdir('opt_pars-diff')\n",
    "    \n",
    "for filename in os.listdir(path+'/opt_par'):\n",
    "    name, ext = filename.split('.')\n",
    "    seq = name.split('_')[0]\n",
    "    incon = name.split('_')[1]\n",
    "    ff  = name.split('_')[2]\n",
    "\n",
    "    rsdf = load_intrinsic_state(ff)\n",
    "\n",
    "    initialdf = pd.read_csv(initialpath+'/in_circ_par/'+seq+'_'+incon+'.par', sep='\\s+', skiprows=2)\n",
    "    initialdf['Bend'] = np.sqrt( initialdf['Roll']**2 + initialdf['Tilt']**2 )\n",
    "    initialdf = initialdf.drop([0], axis=0).reset_index()\n",
    "\n",
    "    datadf = pd.read_csv(path+'/opt_par/'+name+'.par', sep='\\s+', skiprows=2)\n",
    "    datadf['Bend'] = np.sqrt( datadf['Roll']**2 + datadf['Tilt']**2 )\n",
    "    for i in range(1, len(datadf)):\n",
    "        datadf.at[i, 'dimer'] = datadf.at[i-1, '#'][0]+datadf.at[i, '#'][0]\n",
    "    datadf = datadf.drop([0], axis=0).reset_index()\n",
    "\n",
    "    diffdf = pd.DataFrame()\n",
    "    for i in range(0, len(datadf)):\n",
    "        diffdf.at[i, 'dimer']     = datadf.at[i, 'dimer']\n",
    "\n",
    "        diffdf.at[i, 'excess_tilt']  = datadf.at[i, 'Tilt']  - rsdf.at[datadf.at[i, 'dimer'], 'Tilt']\n",
    "        diffdf.at[i, 'excess_roll']  = datadf.at[i, 'Roll']  - rsdf.at[datadf.at[i, 'dimer'], 'Roll']\n",
    "        diffdf.at[i, 'excess_bend']  = datadf.at[i, 'Bend']  - rsdf.at[datadf.at[i, 'dimer'], 'Bend']\n",
    "        diffdf.at[i, 'excess_twist'] = datadf.at[i, 'Twist'] - rsdf.at[datadf.at[i, 'dimer'], 'Twist']\n",
    "\n",
    "    diffdf['delta_tilt']  = datadf['Tilt']  - initialdf['Tilt']\n",
    "    diffdf['delta_roll']  = datadf['Roll']  - initialdf['Roll']\n",
    "    diffdf['delta_bend']  = datadf['Bend']  - initialdf['Bend']\n",
    "    diffdf['delta_twist'] = datadf['Twist'] - initialdf['Twist']\n",
    "\n",
    "    diffdf['shift_tilt'] = datadf['Tilt']  - datadf['Tilt'].mean()\n",
    "    diffdf['shift_roll'] = datadf['Roll']  - datadf['Roll'].mean()\n",
    "    diffdf['shift_bend'] = datadf['Bend']  - datadf['Bend'].mean()\n",
    "    diffdf['shift_twist']= datadf['Twist'] - datadf['Twist'].mean()\n",
    "\n",
    "    diffdf.to_csv(name+'_bps-diffdata.txt', index=False)\n",
    "\n",
    "    shutil.move(name+'_bps-diffdata.txt', 'opt_pars-diff')\n",
    "\n",
    "    del datadf, rsdf, diffdf\n",
    "    del initialdf      \n"
   ]
  },
  {
   "cell_type": "code",
   "execution_count": null,
   "metadata": {},
   "outputs": [],
   "source": []
  }
 ],
 "metadata": {
  "kernelspec": {
   "display_name": "Python 3",
   "language": "python",
   "name": "python3"
  },
  "language_info": {
   "codemirror_mode": {
    "name": "ipython",
    "version": 3
   },
   "file_extension": ".py",
   "mimetype": "text/x-python",
   "name": "python",
   "nbconvert_exporter": "python",
   "pygments_lexer": "ipython3",
   "version": "3.7.6"
  }
 },
 "nbformat": 4,
 "nbformat_minor": 4
}
