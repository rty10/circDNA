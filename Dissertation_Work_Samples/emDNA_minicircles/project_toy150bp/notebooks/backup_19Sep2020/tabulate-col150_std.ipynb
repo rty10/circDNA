{
 "cells": [
  {
   "cell_type": "code",
   "execution_count": null,
   "metadata": {},
   "outputs": [],
   "source": [
    "import os, sys, shutil, subprocess\n",
    "import scipy\n",
    "import numpy as np\n",
    "import pandas as pd\n",
    "\n",
    "path = os.getcwd()\n",
    "\n",
    "if 'Young_Research' in path:\n",
    "    ffpath   = \"C:\\\\Users\\\\Young_Research\\\\Documents\\\\Rutgers\\\\Research\\\\2020_PHY_MSc\\\\seq_Coleman150\\\\forcefields\"\n",
    "    inpath   = \"C:\\\\Users\\\\Young_Research\\\\Documents\\\\Rutgers\\\\Research\\\\2020_PHY_MSc\\\\seq_Coleman150\\\\initial_conditions\"\n",
    "else:\n",
    "    ffpath   = \"/home/rty10/Documents/Experiments/Optimizations/Opt_ForceFields\"\n",
    "    inpath   = \"\"\n"
   ]
  },
  {
   "cell_type": "code",
   "execution_count": null,
   "metadata": {},
   "outputs": [],
   "source": [
    "def gyration(filename):\n",
    "    df     = pd.DataFrame(columns=['x','y','z'])\n",
    "    infile = open(filename, 'r')\n",
    "    rfdata = infile.readlines()\n",
    "    infile.close()\n",
    "    rfdata = [i.rstrip('\\n').split() for i in rfdata]\n",
    "    N = int(rfdata[0][0])\n",
    "    for j in range(0, N):\n",
    "        df.at[j, ['x','y','z']]  = rfdata[ 5*j + 2]\n",
    "    df = df.astype('float')\n",
    "    df['rg'] = (df.x-df.x.mean())**2 + (df.y-df.y.mean())**2 + (df.z-df.z.mean())**2\n",
    "    R = np.sqrt( (df.rg).mean() )\n",
    "    del rfdata, df\n",
    "    return R"
   ]
  },
  {
   "cell_type": "code",
   "execution_count": null,
   "metadata": {},
   "outputs": [],
   "source": [
    "Ncirc = 150\n",
    "ematrix_dict = {0:'tilt', 1:'roll', 2:'twist', 3:'shift', 4:'slide', 5:'rise'}\n",
    "incons = ['pc14','pc15','or15']\n",
    "inseqs = ['col'+str(i).zfill(2) for i in range(5, 10, 1)]\n",
    "\n",
    "circles= []\n",
    "for filename in os.listdir(path+'/opt_log'):\n",
    "    name = filename.split('.')[0]\n",
    "    name2 = name.split('_')[2]\n",
    "    circles.append(name)"
   ]
  },
  {
   "cell_type": "code",
   "execution_count": null,
   "metadata": {},
   "outputs": [],
   "source": [
    "print(len(circles))\n",
    "print()\n",
    "print(circles)"
   ]
  },
  {
   "cell_type": "code",
   "execution_count": null,
   "metadata": {},
   "outputs": [],
   "source": [
    "df = pd.DataFrame()\n",
    "\n",
    "for circ in sorted(circles):\n",
    "    name = circ\n",
    "\n",
    "    infile = open('opt_log/'+circ+'.log', 'r')\n",
    "    indata = infile.readlines()\n",
    "    indata = [i.rstrip('\\n') for i in indata]\n",
    "    infile.close()\n",
    "\n",
    "    df.at[name, 'incon']       = name.split('_')[1]\n",
    "    df.at[name, 'seq']         = name.split('_')[0]\n",
    "    df.at[name, 'seq_type']    = name.split('_')[2][0:3]\n",
    "    df.at[name, 'forcefield'] = name.split('_')[3]\n",
    "    df.at[name, 'two']         = name.split('_')[1][2:]\n",
    "    df.at[name, 'tot_bp']         = Ncirc\n",
    "\n",
    "    for i in range(0, len(indata)):\n",
    "        if 'initial energy:' in indata[i]:\n",
    "            df.at[name, 'eo'] = float( indata[i].split(':')[1] )\n",
    "        elif 'final energy:' in indata[i]:\n",
    "            df.at[name, 'eopt'] = float( indata[i].split(':')[1] )\n",
    "    ematrix = indata[-7:-1]\n",
    "    for i in range(0, len(ematrix)):\n",
    "        ematrix[i] = ematrix[i].replace('{', '').replace('}', '').split(',')\n",
    "        for j in range(0, len(ematrix[i])):\n",
    "            ematrix[i][j] = float(ematrix[i][j])\n",
    "        df.at[name, 'eopt-'+ematrix_dict[i]] = ematrix[i][i]\n",
    "    del indata[:]\n",
    "\n",
    "\n",
    "    infile = open('opt_topology/topo_'+circ+'.txt', 'r')\n",
    "    indata = infile.readlines()\n",
    "    indata = [i.rstrip('\\n') for i in indata]\n",
    "    infile.close()\n",
    "    indata = indata[-4:]\n",
    "    for i in range(0, len(indata)):\n",
    "        if 'Wr' in indata[i]:\n",
    "            df.at[name, 'Wr'] = float( indata[i].split('=')[1] )\n",
    "        elif 'Tw' in indata[i]:\n",
    "            df.at[name, 'Tw'] = float( indata[i].split('=')[1] )\n",
    "        elif 'Lk ' in indata[i]:\n",
    "            df.at[name, 'Lk'] = int( indata[i].split('=')[1] )\n",
    "    del indata[:]\n",
    "            \n",
    "\n",
    "    radius = gyration('opt_refframe/'+circ+'.dat')\n",
    "    df.at[name, 'Rg'] = radius\n",
    "\n",
    "df.tot_bp = df.tot_bp.astype(int)\n",
    "df = df.sort_values(by=['incon','seq','seq_type'])\n",
    "df.to_csv(\"data_col150_set01\")\n",
    "del df"
   ]
  },
  {
   "cell_type": "code",
   "execution_count": null,
   "metadata": {},
   "outputs": [],
   "source": [
    "df = pd.read_csv(\"data_col150_set01\", index_col=0)\n",
    "df"
   ]
  },
  {
   "cell_type": "code",
   "execution_count": null,
   "metadata": {},
   "outputs": [],
   "source": [
    "del df"
   ]
  },
  {
   "cell_type": "code",
   "execution_count": null,
   "metadata": {},
   "outputs": [],
   "source": []
  }
 ],
 "metadata": {
  "kernelspec": {
   "display_name": "Python 3",
   "language": "python",
   "name": "python3"
  },
  "language_info": {
   "codemirror_mode": {
    "name": "ipython",
    "version": 3
   },
   "file_extension": ".py",
   "mimetype": "text/x-python",
   "name": "python",
   "nbconvert_exporter": "python",
   "pygments_lexer": "ipython3",
   "version": "3.7.6"
  }
 },
 "nbformat": 4,
 "nbformat_minor": 2
}
