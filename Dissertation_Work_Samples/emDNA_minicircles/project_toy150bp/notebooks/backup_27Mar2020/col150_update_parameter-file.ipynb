{
 "cells": [
  {
   "cell_type": "markdown",
   "metadata": {},
   "source": [
    "# 2018 Col150 Data Set\n"
   ]
  },
  {
   "cell_type": "code",
   "execution_count": 1,
   "metadata": {},
   "outputs": [],
   "source": [
    "import os, shutil, subprocess, scipy, sys, time\n",
    "import numpy as np\n",
    "import pandas as pd\n",
    "\n",
    "sys.path.insert(0, 'C:/Users/Young_Research/Documents/Rutgers/Research/scripts/analysis')\n",
    "import opt_parameter as op\n",
    "\n",
    "path = os.getcwd()\n",
    "forcefield_path = 'C:/Users/Young_Research/Documents/Rutgers/Research/Opt_ForceFields'"
   ]
  },
  {
   "cell_type": "code",
   "execution_count": 2,
   "metadata": {},
   "outputs": [],
   "source": [
    "Ncirc = 150\n",
    "ematrix_dict = {0:'tilt', 1:'roll', 2:'twist', 3:'shift', 4:'slide', 5:'rise'}\n",
    "\n",
    "incons   = ['oring','pcirc']\n",
    "inseqs1   = ['col'+str(i).zfill(2) for i in range(1, 11, 1)]\n",
    "inseqs2   = ['A150','G150','A1G1','A3G3','A5G5','A15G15','A75G75','A2G2','A4G4','AAGAGG']\n",
    "ff_ind   = ['ideal','kabsch','olson']\n",
    "ff_st    = [str(i)+'-state' for i in range(1, 5, 1)]\n",
    "rstw     = [int(i) for i in range(90, 111)]\n",
    "ff_dict  = {'1-state':'ideal','2-state':'oring','3-state':'zhurkin','4-state':'zhurkin+oring'}\n"
   ]
  },
  {
   "cell_type": "code",
   "execution_count": 3,
   "metadata": {},
   "outputs": [],
   "source": [
    "if not os.path.exists(path+'/updated_opt_par'):\n",
    "    os.mkdir(path+'/updated_opt_par')\n",
    "\n",
    "pars = os.listdir(path+'/opt_par')\n",
    "\n",
    "for i in range(0, len(pars)):\n",
    "    if not os.path.exists(path+'/updated_opt_par/'+pars[i]):\n",
    "        parfile, ext = pars[i].split('.')\n",
    "        seq, incon, seq_type, forcefield = parfile.split(\"_\")\n",
    "\n",
    "        reststate, forcecon = op.load_forcefield(forcefield_path, forcefield)\n",
    "        data = op.load_opt_par_dataframe(path+'/opt_par/'+parfile+'.par', Ncirc, reststate, forcecon)\n",
    "\n",
    "        op.new_par_file(Ncirc, data, path+'/updated_opt_par', parfile)\n",
    "\n",
    "        del reststate, forcecon, data\n"
   ]
  },
  {
   "cell_type": "code",
   "execution_count": null,
   "metadata": {},
   "outputs": [],
   "source": []
  }
 ],
 "metadata": {
  "kernelspec": {
   "display_name": "Python 3",
   "language": "python",
   "name": "python3"
  },
  "language_info": {
   "codemirror_mode": {
    "name": "ipython",
    "version": 3
   },
   "file_extension": ".py",
   "mimetype": "text/x-python",
   "name": "python",
   "nbconvert_exporter": "python",
   "pygments_lexer": "ipython3",
   "version": "3.6.8"
  }
 },
 "nbformat": 4,
 "nbformat_minor": 2
}
