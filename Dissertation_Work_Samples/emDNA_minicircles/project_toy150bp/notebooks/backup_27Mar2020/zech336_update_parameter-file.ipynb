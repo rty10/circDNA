{
 "cells": [
  {
   "cell_type": "markdown",
   "metadata": {},
   "source": [
    "# Zech336 Data Set\n"
   ]
  },
  {
   "cell_type": "code",
   "execution_count": 1,
   "metadata": {},
   "outputs": [],
   "source": [
    "import os, shutil, subprocess, scipy, sys, time\n",
    "import numpy as np\n",
    "import pandas as pd\n",
    "\n",
    "sys.path.insert(0, 'C:/Users/Young_Research/Documents/Rutgers/Research/scripts/analysis')\n",
    "import opt_parameter as op\n",
    "\n",
    "path = os.getcwd()\n",
    "forcefield_path = 'C:/Users/Young_Research/Documents/Rutgers/Research/Opt_ForceFields'"
   ]
  },
  {
   "cell_type": "code",
   "execution_count": 2,
   "metadata": {},
   "outputs": [
    {
     "name": "stdout",
     "output_type": "stream",
     "text": [
      "['incons_mc-batch', 'incons_md+lp+plc_deltaTw', 'incons_md+lp+plc_IncSeqDep']\n"
     ]
    }
   ],
   "source": [
    "Ncirc = 336\n",
    "ematrix_dict = {0:'tilt', 1:'roll', 2:'twist', 3:'shift', 4:'slide', 5:'rise'}\n",
    "\n",
    "dirs = []\n",
    "for x in os.listdir(path):\n",
    "    if 'incons' in x:\n",
    "        dirs.append(x)\n",
    "print(dirs)\n"
   ]
  },
  {
   "cell_type": "code",
   "execution_count": null,
   "metadata": {},
   "outputs": [],
   "source": [
    "for x in range(0, len(dirs)):\n",
    "    if not os.path.exists(path+'/'+dirs[x]+'/updated_opt_par'):\n",
    "        os.mkdir(path+'/'+dirs[x]+'/updated_opt_par')\n",
    "    pars = os.listdir(path+'/'+dirs[x]+'/opt_par')\n",
    "    for i in range(0, len(pars)):\n",
    "        if not os.path.exists(path+'/updated_opt_par/'+pars[i]):\n",
    "            parfile, ext = pars[i].split('.')\n",
    "            \n",
    "            #-!- Double-check the naming of the par file to split strings correctly\n",
    "            if 'mc-batch' in dirs[x]:\n",
    "                incon, seq_type, forcefield, constraint = parfile.split(\"_\")\n",
    "            else:\n",
    "                incon, forcefield, constraint = parfile.split(\"_\")\n",
    "\n",
    "            reststate, forcecon = op.load_forcefield(forcefield_path, forcefield)\n",
    "            data = op.load_opt_par_dataframe(path+'/'+dirs[x]+'/opt_par/'+parfile+'.par', Ncirc, reststate, forcecon)\n",
    "\n",
    "            op.new_par_file(Ncirc, data, path+'/'+dirs[x]+'/updated_opt_par', parfile)\n",
    "\n",
    "            del reststate, forcecon, data\n"
   ]
  },
  {
   "cell_type": "code",
   "execution_count": null,
   "metadata": {},
   "outputs": [],
   "source": []
  }
 ],
 "metadata": {
  "kernelspec": {
   "display_name": "Python 3",
   "language": "python",
   "name": "python3"
  },
  "language_info": {
   "codemirror_mode": {
    "name": "ipython",
    "version": 3
   },
   "file_extension": ".py",
   "mimetype": "text/x-python",
   "name": "python",
   "nbconvert_exporter": "python",
   "pygments_lexer": "ipython3",
   "version": "3.6.8"
  }
 },
 "nbformat": 4,
 "nbformat_minor": 2
}
