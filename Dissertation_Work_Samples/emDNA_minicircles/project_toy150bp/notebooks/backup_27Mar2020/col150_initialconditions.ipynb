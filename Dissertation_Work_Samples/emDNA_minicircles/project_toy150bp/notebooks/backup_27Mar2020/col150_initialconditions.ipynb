{
 "cells": [
  {
   "cell_type": "code",
   "execution_count": null,
   "metadata": {},
   "outputs": [],
   "source": [
    "import os, sys, shutil, subprocess, glob\n",
    "path = os.getcwd()\n",
    "\n",
    "seqtypes  = ['std','c05a','c15a','c20a','c30a']\n",
    "incons    = ['oring','pcirc']\n",
    "sequences = [\"col\"+str(i).zfill(2) for i in range(1, 11)]"
   ]
  },
  {
   "cell_type": "code",
   "execution_count": null,
   "metadata": {},
   "outputs": [],
   "source": [
    "def rf_format(sequence_length, filename):\n",
    "    bp_list = ['AT','TA','CG','GC']\n",
    "    bp_dict = {'AT':'A-T', 'TA':'T-A', 'CG':'C-G', 'GC':'G-C'}\n",
    "    name, ext = filename.split('.')\n",
    "    infile = open(filename, 'r')\n",
    "    indata = infile.readlines()\n",
    "    infile.close()\n",
    "    indata = [i.rstrip('\\n') for i in indata]\n",
    "    \n",
    "    indata[0] = indata[0].replace(str(sequence_length+1), str(sequence_length))\n",
    "    \n",
    "    if len(indata) == 5*sequence_length+6:\n",
    "        del indata[-5:]\n",
    "    \n",
    "    for i in range(0, len(indata)):\n",
    "        for j in range(0, len(bp_list)):\n",
    "            if bp_list[j] in indata[i]:\n",
    "                indata[i] = indata[i].replace(indata[i], \"... \"+indata[i].split()[1]+' '+bp_dict[bp_list[j]]+' ...')\n",
    "    \n",
    "    for i in range(1, len(indata)):\n",
    "        if len(indata[i].split()) == 3:\n",
    "            x, y, z = indata[i].split()\n",
    "            indata[i] = '{:<10} {:>13} {:>15}'.format(round(float(x), 6), round(float(y), 6), round(float(z), 6))\n",
    "\n",
    "    outfile = open(filename, 'w')\n",
    "    outfile.writelines([i+'\\n' for i in indata])\n",
    "    outfile.close()\n",
    "    del indata\n",
    "    return\n"
   ]
  },
  {
   "cell_type": "code",
   "execution_count": null,
   "metadata": {},
   "outputs": [],
   "source": []
  },
  {
   "cell_type": "code",
   "execution_count": null,
   "metadata": {},
   "outputs": [],
   "source": []
  }
 ],
 "metadata": {
  "kernelspec": {
   "display_name": "Python 3",
   "language": "python",
   "name": "python3"
  },
  "language_info": {
   "codemirror_mode": {
    "name": "ipython",
    "version": 3
   },
   "file_extension": ".py",
   "mimetype": "text/x-python",
   "name": "python",
   "nbconvert_exporter": "python",
   "pygments_lexer": "ipython3",
   "version": "3.6.8"
  }
 },
 "nbformat": 4,
 "nbformat_minor": 2
}
