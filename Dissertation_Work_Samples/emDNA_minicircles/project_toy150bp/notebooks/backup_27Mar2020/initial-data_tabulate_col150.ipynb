{
 "cells": [
  {
   "cell_type": "markdown",
   "metadata": {},
   "source": [
    "# Col150 Analysis"
   ]
  },
  {
   "cell_type": "markdown",
   "metadata": {},
   "source": [
    "## Tabulate Energy + Topology Data + Calculate Radius of Gyration"
   ]
  },
  {
   "cell_type": "code",
   "execution_count": null,
   "metadata": {},
   "outputs": [],
   "source": [
    "import os, sys, shutil, subprocess\n",
    "import scipy\n",
    "from scipy import ndimage\n",
    "from scipy.spatial import distance\n",
    "\n",
    "import numpy as np\n",
    "import pandas as pd\n",
    "\n",
    "from sklearn.decomposition import PCA\n",
    "\n",
    "import matplotlib\n",
    "import matplotlib.pyplot as plt\n",
    "from mpl_toolkits.mplot3d import Axes3D\n",
    "%matplotlib inline\n",
    "\n",
    "path = os.getcwd()"
   ]
  },
  {
   "cell_type": "code",
   "execution_count": null,
   "metadata": {},
   "outputs": [],
   "source": [
    "def gyration(filename):\n",
    "    df     = pd.DataFrame(columns=['x','y','z'])\n",
    "    infile = open(filename, 'r')\n",
    "    rfdata = infile.readlines()\n",
    "    infile.close()\n",
    "    rfdata = [i.rstrip('\\n').split() for i in rfdata]\n",
    "    N = int(rfdata[0][0])\n",
    "    for j in range(0, N):\n",
    "        df.at[j, ['x','y','z']]  = rfdata[ 5*j + 2]\n",
    "    df = df.astype('float')\n",
    "    df['rg'] = (df.x-df.x.mean())**2 + (df.y-df.y.mean())**2 + (df.z-df.z.mean())**2\n",
    "    R = np.sqrt( (df.rg).mean() )\n",
    "    del rfdata, df\n",
    "    return R"
   ]
  },
  {
   "cell_type": "code",
   "execution_count": null,
   "metadata": {},
   "outputs": [],
   "source": [
    "Ncirc = 150\n",
    "ematrix_dict = {0:'tilt', 1:'roll', 2:'twist', 3:'shift', 4:'slide', 5:'rise'}\n",
    "\n",
    "incons   = ['oring','pcirc']\n",
    "\n",
    "inseqs1   = ['col'+str(i).zfill(2) for i in range(1, 10, 1)]\n",
    "inseqs2   = ['A150','G150','A75G75','A15G15','A1G1','A2G2','A3G3','A4G4','A5G5']\n",
    "\n",
    "seqvars        = ['std','c05a','c15a','c20a','c30a']\n",
    "seqvars_colors = {'std':'grey','c05a':'blue','c15a':'red','c20a':'gold','c30a':'green'}\n",
    "seqvars_marks  = {'std':'s','c05a':'<','c15a':'^','c20a':'d','c30a':'P'}\n",
    "\n",
    "ff_dict       = {'idt':'1-state','org':'2-state','vic':'3-state','vor':'4-state'}\n",
    "\n",
    "ff_st         = [str(i)+'-state' for i in range(1, 5, 1)]\n",
    "ff_st_dict    = {'1-state':'ideal','2-state':'oring','3-state':'zhurkin','4-state':'zhurkin+oring'}\n",
    "ff_st_colors  = {'1-state':'gold','2-state':'dodgerblue','3-state':'limegreen','4-state':'tomato'}\n",
    "ff_st_marks   = {'1-state':'.','2-state':'.','3-state':'.','4-state':'.'}\n",
    "\n",
    "ff_ind         = ['ideal','kabsch','olson']\n",
    "ff_ind_colors  = {'ideal':'darkgreen','kabsch':'crimson','olson':'dodgerblue'}\n",
    "ff_ind_marks   = {'ideal':'.','kabsch':'^','olson':'d'}\n",
    "\n",
    "rs_bpt             = ['090','091','092','093','094','095','096','097','098','099','100',\n",
    "                     '101','012','103','104','105','106','107','108','109','110']\n",
    "rs_bpturn          = [9.0,9.1,9.2,9.3,9.4,9.5,9.6,9.7,9.8,9.9,10.0,\n",
    "                      10.1,10.2,10.3,10.4,10.5,10.6,10.7,10.8,10.9,11.0]\n",
    "rs_tw              = [round(float(360/i), 2) for i in rs_bpturn]\n",
    "colors             = plt.cm.gnuplot(np.linspace(0, 1, len(rs_tw)))\n",
    "rs_tw_colors       = {i:j for i in rs_tw for j in plt.cm.gnuplot(np.linspace(0, 1, len(rs_tw)))}\n",
    "rs_bpturn_colors   = {i:j for i in rs_bpturn for j in plt.cm.gnuplot(np.linspace(0, 1, len(rs_tw)))}\n",
    "rs_bpt_colors      = {i:j for i in rs_bpt for j in plt.cm.gnuplot(np.linspace(0, 1, len(rs_tw)))}"
   ]
  },
  {
   "cell_type": "code",
   "execution_count": null,
   "metadata": {},
   "outputs": [],
   "source": [
    "df = pd.DataFrame()\n",
    "for filename in os.listdir('in_topology'):\n",
    "    name = filename.split('.')[0]\n",
    "    name = name.replace('topo_', '')\n",
    "\n",
    "    df.at[name, 'seq']      = name.split('_')[0]\n",
    "    df.at[name, 'incon']    = name.split('_')[1]\n",
    "    df.at[name, 'seq_type'] = name.split('_')[2]\n",
    "    df.at[name, 'tot_bp']   = Ncirc\n",
    "\n",
    "    infile = open('in_topology/'+filename, 'r')\n",
    "    indata = infile.readlines()\n",
    "    indata = [i.rstrip('\\n') for i in indata]\n",
    "    infile.close()\n",
    "    indata = indata[-4:]\n",
    "    for i in range(0, len(indata)):\n",
    "        if 'Wr' in indata[i]:\n",
    "            df.at[name, 'Wr'] = float( indata[i].split('=')[1] )\n",
    "        elif 'Tw' in indata[i]:\n",
    "            df.at[name, 'Tw'] = float( indata[i].split('=')[1] )\n",
    "        elif 'Lk ' in indata[i]:\n",
    "            df.at[name, 'Lk'] = int( indata[i].split('=')[1] )\n",
    "    del indata[:]\n",
    "\n",
    "for filename in os.listdir('in_refframe'):\n",
    "    name = filename.split('.')[0]\n",
    "    radius = gyration('in_refframe/'+filename)\n",
    "    df.at[name, 'Rg'] = radius\n",
    "\n",
    "df.tot_bp = df.tot_bp.astype(int)\n",
    "df = df.sort_values(by=['seq','incon'])\n",
    "df.to_csv(\"initial-data_col150_fullset\")\n",
    "del df"
   ]
  },
  {
   "cell_type": "code",
   "execution_count": null,
   "metadata": {},
   "outputs": [],
   "source": []
  }
 ],
 "metadata": {
  "kernelspec": {
   "display_name": "Python 3",
   "language": "python",
   "name": "python3"
  },
  "language_info": {
   "codemirror_mode": {
    "name": "ipython",
    "version": 3
   },
   "file_extension": ".py",
   "mimetype": "text/x-python",
   "name": "python",
   "nbconvert_exporter": "python",
   "pygments_lexer": "ipython3",
   "version": "3.7.3"
  }
 },
 "nbformat": 4,
 "nbformat_minor": 2
}
