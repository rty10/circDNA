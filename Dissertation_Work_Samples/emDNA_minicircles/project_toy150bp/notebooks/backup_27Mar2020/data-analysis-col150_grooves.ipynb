{
 "cells": [
  {
   "cell_type": "markdown",
   "metadata": {},
   "source": [
    "# 2018 Col150 Data Set\n",
    "## Data and Graphical Analysis"
   ]
  },
  {
   "cell_type": "code",
   "execution_count": null,
   "metadata": {},
   "outputs": [],
   "source": [
    "import os, sys, shutil, subprocess\n",
    "import scipy\n",
    "from scipy import ndimage\n",
    "from scipy.spatial import distance\n",
    "\n",
    "import numpy as np\n",
    "import pandas as pd\n",
    "\n",
    "from sklearn.decomposition import PCA\n",
    "\n",
    "import matplotlib\n",
    "import matplotlib.pyplot as plt\n",
    "from mpl_toolkits.mplot3d import Axes3D\n",
    "matplotlib.rcParams.update({'figure.max_open_warning': 0})\n",
    "matplotlib.rcParams.update({'font.size': 12})\n",
    "\n",
    "\n",
    "%matplotlib inline\n",
    "path = os.getcwd()"
   ]
  },
  {
   "cell_type": "code",
   "execution_count": null,
   "metadata": {},
   "outputs": [],
   "source": [
    "Ncirc = 150\n",
    "ematrix_dict = {0:'tilt', 1:'roll', 2:'twist', 3:'shift', 4:'slide', 5:'rise'}\n",
    "\n",
    "incons   = ['oring','pcirc']\n",
    "\n",
    "inseqs1   = ['col'+str(i).zfill(2) for i in range(1, 10, 1)]\n",
    "inseqs2   = ['A150','G150','A75G75','A15G15','A1G1','A2G2','A3G3','A4G4','A5G5']\n",
    "\n",
    "seqvars        = ['std','c05a','c15a','c20a','c30a']\n",
    "seqvars_colors = {'std':'grey','c05a':'blue','c15a':'red','c20a':'gold','c30a':'green'}\n",
    "seqvars_marks  = {'std':'s','c05a':'<','c15a':'^','c20a':'d','c30a':'P'}\n",
    "\n",
    "ff_dict       = {'idt':'1-state','org':'2-state','vic':'3-state','vor':'4-state'}\n",
    "\n",
    "ff_st         = [str(i)+'-state' for i in range(1, 5, 1)]\n",
    "ff_st_dict    = {'1-state':'ideal','2-state':'oring','3-state':'zhurkin','4-state':'zhurkin+oring'}\n",
    "ff_st_colors  = {'1-state':'gold','2-state':'dodgerblue','3-state':'limegreen','4-state':'tomato'}\n",
    "ff_st_marks   = {'1-state':'.','2-state':'.','3-state':'.','4-state':'.'}\n",
    "\n",
    "ff_ind         = ['ideal','kabsch','olson']\n",
    "ff_ind_colors  = {'ideal':'darkgreen','kabsch':'crimson','olson':'dodgerblue'}\n",
    "ff_ind_marks   = {'ideal':'.','kabsch':'^','olson':'d'}\n",
    "\n",
    "rs_bpt             = ['090','091','092','093','094','095','096','097','098','099','100',\n",
    "                     '101','012','103','104','105','106','107','108','109','110']\n",
    "rs_bpturn          = [9.0,9.1,9.2,9.3,9.4,9.5,9.6,9.7,9.8,9.9,10.0,\n",
    "                      10.1,10.2,10.3,10.4,10.5,10.6,10.7,10.8,10.9,11.0]\n",
    "rs_tw              = [round(float(360/i), 2) for i in rs_bpturn]\n",
    "colors             = plt.cm.gnuplot(np.linspace(0, 1, len(rs_tw)))\n",
    "rs_tw_colors       = {i:j for i in rs_tw for j in plt.cm.gnuplot(np.linspace(0, 1, len(rs_tw)))}\n",
    "rs_bpturn_colors   = {i:j for i in rs_bpturn for j in plt.cm.gnuplot(np.linspace(0, 1, len(rs_tw)))}\n",
    "rs_bpt_colors      = {i:j for i in rs_bpt for j in plt.cm.gnuplot(np.linspace(0, 1, len(rs_tw)))}"
   ]
  },
  {
   "cell_type": "code",
   "execution_count": null,
   "metadata": {},
   "outputs": [],
   "source": [
    "def pca_df(filename):\n",
    "    df   = pd.DataFrame(columns=['x','y','z'])\n",
    "    infile = open(filename, 'r')\n",
    "    rfdata = infile.readlines()\n",
    "    infile.close()\n",
    "    rfdata = [i.rstrip('\\n').split() for i in rfdata]\n",
    "    N = int(rfdata[0][0])\n",
    "    for j in range(0, N):\n",
    "        df.at[j, ['x','y','z']]  = rfdata[ 5*j + 2]\n",
    "\n",
    "    df = df.astype('float')\n",
    "    df['vx'] = df.x - df.x.mean()\n",
    "    df['vy'] = df.y - df.y.mean()\n",
    "    df['vz'] = df.z - df.z.mean()\n",
    "\n",
    "    cxx = ( (df.vx*df.vx).sum() - (df.vx.sum() * df.vx.sum()) ) / (N-1)\n",
    "    cxy = ( (df.vx*df.vy).sum() - (df.vx.sum() * df.vy.sum()) ) / (N-1)\n",
    "    cxz = ( (df.vx*df.vz).sum() - (df.vx.sum() * df.vz.sum()) ) / (N-1)\n",
    "    cyx = ( (df.vy*df.vx).sum() - (df.vy.sum() * df.vx.sum()) ) / (N-1)\n",
    "    cyy = ( (df.vy*df.vy).sum() - (df.vy.sum() * df.vy.sum()) ) / (N-1)\n",
    "    cyz = ( (df.vy*df.vz).sum() - (df.vy.sum() * df.vz.sum()) ) / (N-1)\n",
    "    czx = ( (df.vz*df.vx).sum() - (df.vz.sum() * df.vx.sum()) ) / (N-1)\n",
    "    czy = ( (df.vz*df.vy).sum() - (df.vz.sum() * df.vy.sum()) ) / (N-1)\n",
    "    czz = ( (df.vz*df.vz).sum() - (df.vz.sum() * df.vz.sum()) ) / (N-1)\n",
    "\n",
    "    covar = np.matrix([ [cxx, cxy, cxz], [cyx, cyy, cyz], [czx, czy, czz] ])\n",
    "    evals, evecs = np.linalg.eig( covar )\n",
    "    idx = np.argsort(evals)[::-1][: len(evals)]\n",
    "    evals = evals[idx]\n",
    "    evecs = evecs[:, idx]\n",
    "\n",
    "    adj = pd.DataFrame(np.dot( df[['vx', 'vy', 'vz']], evecs), columns=['e1','e2','e3'])\n",
    "    del rfdata, df\n",
    "    return adj\n",
    "\n",
    "def fig_move(figdirectory):\n",
    "    for filename in os.listdir(figdirectory):\n",
    "        if not os.path.exists(\"figures\"):\n",
    "            os.mkdir(\"figures\")\n",
    "    for filename in os.listdir(figdirectory):\n",
    "        if filename.endswith(\".png\"):\n",
    "            shutil.move(figdirectory+'/'+filename, figdirectory+\"/figures/\"+filename)\n",
    "    return\n",
    "\n",
    "def optparameterdf(file):\n",
    "    infile = open(file,'r')\n",
    "    indata = infile.readlines()\n",
    "    infile.close()\n",
    "    indata = [i.strip('\\n').split() for i in indata]\n",
    "    header = indata[2:3]\n",
    "    pars   = indata[3:]\n",
    "    # Ensure all objects in dataframe are float64\n",
    "    for k in range(0, len(pars)):\n",
    "        for j, x in enumerate(pars[k]):\n",
    "            try:\n",
    "                pars[k][j] = float(x)\n",
    "            except ValueError:\n",
    "                pass\n",
    "    # Generate dataframe\n",
    "    df = pd.DataFrame.from_records(pars, columns=header)\n",
    "    # Generate new column: 'Bend'\n",
    "    for k in range(0, len(df)):\n",
    "        x = float(df.loc[k, 'Tilt'])\n",
    "        y = float(df.loc[k, 'Roll'])\n",
    "        df.loc[k, 'Bend'] = float(np.sqrt(x**2 + y**2))\n",
    "    del header, pars\n",
    "    return df"
   ]
  },
  {
   "cell_type": "markdown",
   "metadata": {},
   "source": [
    "# Load grooves data and analyze"
   ]
  },
  {
   "cell_type": "code",
   "execution_count": null,
   "metadata": {},
   "outputs": [],
   "source": [
    "pathgroove = path+'/opt_grooves'\n",
    "lst = []\n",
    "for filename in os.listdir(pathgroove):\n",
    "    lst.append(filename)\n",
    "lst = sorted(lst)"
   ]
  },
  {
   "cell_type": "code",
   "execution_count": null,
   "metadata": {
    "scrolled": false
   },
   "outputs": [],
   "source": [
    "# Make: minor groove figures\n",
    "fig, (ax1, ax2, ax3) = plt.subplots(nrows=3, ncols=1, figsize=(10,10), sharex=True, sharey=True)\n",
    "#ax1.set_prop_cycle('color',[plt.cm.gist_rainbow(i) for i in np.linspace(0, 1, len(inseqs1))])\n",
    "#ax2.set_prop_cycle('color',[plt.cm.gist_rainbow(i) for i in np.linspace(0, 1, len(inseqs1))])\n",
    "#ax3.set_prop_cycle('color',[plt.cm.gist_rainbow(i) for i in np.linspace(0, 1, len(inseqs1))])\n",
    "\n",
    "for i in range(0, len(lst)):\n",
    "    if \"oring\" in lst[i] and \"std\" in lst[i]:\n",
    "        if 'ideal' in lst[i]:\n",
    "            for j in range(0, len(inseqs1)):   pd.read_csv(pathgroove+'/'+lst[i]).plot(y=\"W-min\", ax=ax1, legend=False)\n",
    "        elif 'kabsch' in lst[i]:  \n",
    "            for j in range(0, len(inseqs1)):   pd.read_csv(pathgroove+'/'+lst[i]).plot(y=\"W-min\", ax=ax2, legend=False)\n",
    "        elif 'olson' in lst[i]:   \n",
    "            for j in range(0, len(inseqs1)):   pd.read_csv(pathgroove+'/'+lst[i]).plot(y=\"W-min\", ax=ax3, legend=False)\n",
    "\n",
    "plt.show()\n",
    "plt.clf()"
   ]
  },
  {
   "cell_type": "code",
   "execution_count": null,
   "metadata": {},
   "outputs": [],
   "source": [
    "print(inseqs2)"
   ]
  },
  {
   "cell_type": "code",
   "execution_count": null,
   "metadata": {},
   "outputs": [],
   "source": []
  }
 ],
 "metadata": {
  "kernelspec": {
   "display_name": "Python 3",
   "language": "python",
   "name": "python3"
  },
  "language_info": {
   "codemirror_mode": {
    "name": "ipython",
    "version": 3
   },
   "file_extension": ".py",
   "mimetype": "text/x-python",
   "name": "python",
   "nbconvert_exporter": "python",
   "pygments_lexer": "ipython3",
   "version": "3.6.9"
  }
 },
 "nbformat": 4,
 "nbformat_minor": 2
}
