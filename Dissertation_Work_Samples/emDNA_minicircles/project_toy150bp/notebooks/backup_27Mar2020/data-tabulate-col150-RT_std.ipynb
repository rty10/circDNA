{
 "cells": [
  {
   "cell_type": "markdown",
   "metadata": {},
   "source": [
    "# Col150 Analysis"
   ]
  },
  {
   "cell_type": "markdown",
   "metadata": {},
   "source": [
    "## Tabulate Energy + Topology Data + Calculate Radius of Gyration"
   ]
  },
  {
   "cell_type": "code",
   "execution_count": null,
   "metadata": {},
   "outputs": [],
   "source": [
    "import os, sys, shutil, subprocess\n",
    "import scipy\n",
    "from scipy import ndimage\n",
    "from scipy.spatial import distance\n",
    "\n",
    "import numpy as np\n",
    "import pandas as pd\n",
    "\n",
    "from sklearn.decomposition import PCA\n",
    "\n",
    "import matplotlib\n",
    "import matplotlib.pyplot as plt\n",
    "from mpl_toolkits.mplot3d import Axes3D\n",
    "%matplotlib inline\n",
    "\n",
    "path = os.getcwd()"
   ]
  },
  {
   "cell_type": "code",
   "execution_count": null,
   "metadata": {},
   "outputs": [],
   "source": [
    "def gyration(filename):\n",
    "    df     = pd.DataFrame(columns=['x','y','z'])\n",
    "    infile = open(filename, 'r')\n",
    "    rfdata = infile.readlines()\n",
    "    infile.close()\n",
    "    rfdata = [i.rstrip('\\n').split() for i in rfdata]\n",
    "    N = int(rfdata[0][0])\n",
    "    for j in range(0, N):\n",
    "        df.at[j, ['x','y','z']]  = rfdata[ 5*j + 2]\n",
    "    df = df.astype('float')\n",
    "    df['rg'] = (df.x-df.x.mean())**2 + (df.y-df.y.mean())**2 + (df.z-df.z.mean())**2\n",
    "    R = np.sqrt( (df.rg).mean() )\n",
    "    del rfdata, df\n",
    "    return R"
   ]
  },
  {
   "cell_type": "code",
   "execution_count": null,
   "metadata": {},
   "outputs": [],
   "source": [
    "Ncirc = 150\n",
    "ematrix_dict = {0:'tilt', 1:'roll', 2:'twist', 3:'shift', 4:'slide', 5:'rise'}\n",
    "incons = ['oring','pcirc']\n",
    "inseqs = ['col'+str(i).zfill(2) for i in range(1, 10, 1)]\n"
   ]
  },
  {
   "cell_type": "code",
   "execution_count": null,
   "metadata": {},
   "outputs": [],
   "source": [
    "circles= []\n",
    "\n",
    "for filename in os.listdir(path+'/opt_log'):\n",
    "    name = filename.split('.')[0]\n",
    "    name2 = name.split('_')[2]\n",
    "    circles.append(name)\n"
   ]
  },
  {
   "cell_type": "code",
   "execution_count": null,
   "metadata": {},
   "outputs": [],
   "source": [
    "# Compile all c15 circular data\n",
    "\n",
    "df = pd.DataFrame()\n",
    "for circ in sorted(circles):\n",
    "    for filename in os.listdir('opt_log'):\n",
    "        if circ in filename:\n",
    "            name = filename.split('.')[0]\n",
    "            infile = open('opt_log/'+filename, 'r')\n",
    "            indata = infile.readlines()\n",
    "            indata = [i.rstrip('\\n') for i in indata]\n",
    "            infile.close()\n",
    "\n",
    "            df.at[name, 'incon']       = name.split('_')[1]\n",
    "            df.at[name, 'seq']         = name.split('_')[0]\n",
    "            df.at[name, 'seq_type']    = name.split('_')[2][0:3]\n",
    "            df.at[name, 'insert_type'] = name.split('_')[2][3:]\n",
    "            \n",
    "            df.at[name, 'forcefield'] = name.split('_')[3]\n",
    "            df.at[name, 'tw']         = np.nan\n",
    "            \n",
    "            df.at[name, 'tot_bp']         = Ncirc\n",
    "            \n",
    "            for i in range(0, len(indata)):\n",
    "                if 'initial energy:' in indata[i]:\n",
    "                    df.at[name, 'eo'] = float( indata[i].split(':')[1] )\n",
    "                elif 'final energy:' in indata[i]:\n",
    "                    df.at[name, 'eopt'] = float( indata[i].split(':')[1] )\n",
    "            ematrix = indata[-7:-1]\n",
    "            for i in range(0, len(ematrix)):\n",
    "                ematrix[i] = ematrix[i].replace('{', '').replace('}', '').split(',')\n",
    "                for j in range(0, len(ematrix[i])):\n",
    "                    ematrix[i][j] = float(ematrix[i][j])\n",
    "                df.at[name, 'eopt-'+ematrix_dict[i]] = ematrix[i][i]\n",
    "            del indata[:]\n",
    "\n",
    "    for filename in os.listdir('opt_topology'):\n",
    "        if circ in filename:\n",
    "            name = filename.split('.')[0]\n",
    "            name = name.replace('topo_', '')\n",
    "            infile = open('opt_topology/'+filename, 'r')\n",
    "            indata = infile.readlines()\n",
    "            indata = [i.rstrip('\\n') for i in indata]\n",
    "            infile.close()\n",
    "            indata = indata[-4:]\n",
    "            for i in range(0, len(indata)):\n",
    "                if 'Wr' in indata[i]:\n",
    "                    df.at[name, 'Wr'] = float( indata[i].split('=')[1] )\n",
    "                elif 'Tw' in indata[i]:\n",
    "                    df.at[name, 'Tw'] = float( indata[i].split('=')[1] )\n",
    "                elif 'Lk ' in indata[i]:\n",
    "                    df.at[name, 'Lk'] = int( indata[i].split('=')[1] )\n",
    "            del indata[:]\n",
    "            \n",
    "    for filename in os.listdir('opt_refframe'):\n",
    "        if circ in filename:\n",
    "            name = filename.split('.')[0]\n",
    "            radius = gyration('opt_refframe/'+filename)\n",
    "            df.at[name, 'Rg'] = radius\n",
    "\n",
    "df.tot_bp = df.tot_bp.astype(int)\n",
    "df = df.sort_values(by=['incon','seq','seq_type'])\n",
    "df.to_csv(\"data_col150-RT_seq-primary_std\")\n",
    "del df"
   ]
  },
  {
   "cell_type": "code",
   "execution_count": null,
   "metadata": {},
   "outputs": [],
   "source": [
    "df = pd.read_csv(\"data_col150-RT_seq-primary_std\", index_col=0)\n",
    "df"
   ]
  },
  {
   "cell_type": "code",
   "execution_count": null,
   "metadata": {},
   "outputs": [],
   "source": [
    "del df"
   ]
  },
  {
   "cell_type": "code",
   "execution_count": null,
   "metadata": {},
   "outputs": [],
   "source": []
  }
 ],
 "metadata": {
  "kernelspec": {
   "display_name": "Python 3",
   "language": "python",
   "name": "python3"
  },
  "language_info": {
   "codemirror_mode": {
    "name": "ipython",
    "version": 3
   },
   "file_extension": ".py",
   "mimetype": "text/x-python",
   "name": "python",
   "nbconvert_exporter": "python",
   "pygments_lexer": "ipython3",
   "version": "3.6.9"
  }
 },
 "nbformat": 4,
 "nbformat_minor": 2
}
