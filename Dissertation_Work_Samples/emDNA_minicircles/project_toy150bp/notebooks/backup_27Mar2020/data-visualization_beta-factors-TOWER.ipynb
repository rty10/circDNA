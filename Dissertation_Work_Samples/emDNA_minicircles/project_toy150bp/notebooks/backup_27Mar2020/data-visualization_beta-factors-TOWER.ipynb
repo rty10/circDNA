{
 "cells": [
  {
   "cell_type": "markdown",
   "metadata": {},
   "source": [
    "# Generate beta factor text files"
   ]
  },
  {
   "cell_type": "code",
   "execution_count": 2,
   "metadata": {},
   "outputs": [],
   "source": [
    "import os, sys, shutil, subprocess, matplotlib\n",
    "import pandas as pd\n",
    "import numpy as np\n",
    "import scipy as sp\n",
    "\n",
    "path     = os.getcwd()\n",
    "path_ds  = path+'/opt_det-seqs'  # use for normalize bend and energy\n",
    "path_dp  = path+'/opt_det-pars'  # use for excess roll and twist\n",
    "# --------------------------------------------------------------------------------\n",
    "pathbeta = path+'/opt_beta-factors'\n"
   ]
  },
  {
   "cell_type": "code",
   "execution_count": 3,
   "metadata": {},
   "outputs": [],
   "source": [
    "Ncirc = 150\n",
    "\n",
    "#betafactors = ['bend_norm', 'energy_norm', 'twist_norm','radius_norm','wmin_norm',\n",
    "#               'roll_excess','twist_excess',\n",
    "#               'roll_diff','twist_diff','bend_diff','radius_diff','energy_diff']\n",
    "betafactors = ['bend_excess']\n",
    "\n",
    "for i in range(0, len(betafactors)):\n",
    "    if not os.path.exists(pathbeta+'/'+betafactors[i]):\n",
    "        os.mkdir(pathbeta+'/'+betafactors[i])\n",
    "\n",
    "def load_optdetailed_df(filepath):\n",
    "    infile = open(filepath, 'r')\n",
    "    indata = infile.readlines()\n",
    "    infile.close()\n",
    "    indata = [i.rstrip('\\n').split() for i in indata]\n",
    "    for i in range(0, len(indata)):\n",
    "        for j, x in enumerate(indata[i]):\n",
    "            try:\n",
    "                indata[i][j] = float(x)\n",
    "            except ValueError:\n",
    "                pass\n",
    "    df = pd.DataFrame.from_records(indata[2:], columns=indata[1:2])\n",
    "    df.index = np.arange(0, len(df))\n",
    "    del indata\n",
    "    return df\n"
   ]
  },
  {
   "cell_type": "code",
   "execution_count": 4,
   "metadata": {},
   "outputs": [],
   "source": [
    "lst  = []\n",
    "seqs = []\n",
    "for filename in os.listdir(path_ds):\n",
    "    lst.append(filename.split('.')[0])\n",
    "for i in lst:\n",
    "    i = i.replace('_bps-data', '')\n",
    "    seqs.append(i)\n",
    "seqs = sorted(seqs)\n",
    "del lst"
   ]
  },
  {
   "cell_type": "markdown",
   "metadata": {},
   "source": [
    "## Normalized bend, energy, twist"
   ]
  },
  {
   "cell_type": "code",
   "execution_count": null,
   "metadata": {
    "scrolled": true
   },
   "outputs": [],
   "source": [
    "par_name = {'Bend':'bend-norm', 'Energy':'energy-norm', 'Twist':'twist-norm'}\n",
    "par_dir  = {'Bend':'bend_norm', 'Energy':'energy_norm', 'Twist':'twist_norm'}\n",
    "for Par in ['Bend','Energy','Twist']:\n",
    "    for i in range(0, len(seqs)):\n",
    "        df = load_optdetailed_df(path_ds+'/'+seqs[i]+'_bps-data.txt')\n",
    "        dfb = df[Par].copy()\n",
    "        dfb.loc[0, Par] = dfb.loc[Ncirc, Par]\n",
    "        \n",
    "        # ----- New: 21 Nov 2019\n",
    "        # in .pdb, b/c chain A = 1-Ncirc+1, chain B = Ncirc+2 - 2(Ncirc+1) in reverse order\n",
    "        # extend list\n",
    "        for j in range(0, len(df)):\n",
    "            A = dfb.loc[j, Par]\n",
    "            B = (2*(Ncirc+1)-j)-1\n",
    "            dfb.loc[B, Par] = A\n",
    "        dfb = dfb.sort_index()\n",
    "        # ----- ----------------\n",
    "        dfb['norm'] = (dfb[Par]-df[Par].min())/(df[Par].max() -df[Par].min())\n",
    "        \n",
    "        np.savetxt(path+'/'+seqs[i]+'_'+par_name[Par]+'.txt', dfb.norm.values, fmt='%8.6f')\n",
    "        \n",
    "        #shutil.move(path+'/'+seqs[i]+'_'+par_name[Par]+'.txt', pathbeta+'/'+par_name[Par])\n",
    "        \n",
    "        shutil.move(os.path.join(path, seqs[i]+'_'+par_name[Par]+'.txt'),\n",
    "                    os.path.join(pathbeta+'/'+par_dir[Par], seqs[i]+'_'+par_name[Par]+'.txt'))\n",
    "        del df,dfb"
   ]
  },
  {
   "cell_type": "code",
   "execution_count": null,
   "metadata": {},
   "outputs": [],
   "source": [
    "par_name = {'Dcenter':'radius-norm', 'W-min':'wmin-norm'}\n",
    "par_dir  = {'Dcenter':'radius_norm', 'W-min':'wmin_norm'}\n",
    "for Par in ['Dcenter','W-min']:\n",
    "    for i in range(0, len(seqs)):\n",
    "        df = load_optdetailed_df(path_ds+'/'+seqs[i]+'_bps-data.txt')\n",
    "        dfb = df[Par].copy()\n",
    "        dfb.loc[Ncirc, Par] = dfb.loc[0, Par]\n",
    "        \n",
    "        # ----- New: 21 Nov 2019\n",
    "        # in .pdb, b/c chain A = 1-Ncirc+1, chain B = Ncirc+2 - 2(Ncirc+1) in reverse order\n",
    "        # extend list\n",
    "        for j in range(0, len(df)):\n",
    "            A = dfb.loc[j, Par]\n",
    "            B = (2*(Ncirc+1)-j)-1\n",
    "            dfb.loc[B, Par] = A\n",
    "        dfb = dfb.sort_index()\n",
    "        # ----- ----------------\n",
    "\n",
    "        dfb['norm'] = (dfb[Par]-df[Par].min())/(df[Par].max() -df[Par].min())\n",
    "        np.savetxt(path+'/'+seqs[i]+'_'+par_name[Par]+'.txt', dfb.norm.values, fmt='%8.6f')\n",
    "        #shutil.move(path+'/'+seqs[i]+'_'+par_name[Par]+'.txt', pathbeta+'/'+par_name[Par])\n",
    "        shutil.move(os.path.join(path, seqs[i]+'_'+par_name[Par]+'.txt'),\n",
    "                    os.path.join(pathbeta+'/'+par_dir[Par], seqs[i]+'_'+par_name[Par]+'.txt'))\n",
    "        del df,dfb"
   ]
  },
  {
   "cell_type": "markdown",
   "metadata": {},
   "source": [
    "## Excess roll and twist"
   ]
  },
  {
   "cell_type": "code",
   "execution_count": 5,
   "metadata": {
    "scrolled": true
   },
   "outputs": [],
   "source": [
    "incons  = ['oring','pcirc']\n",
    "ffields = ['kabsch','olson']\n",
    "par     = ['Bend']\n",
    "ep      = {'Bend':'bend'}\n",
    "\n",
    "inseqs = ['col'+str(i).zfill(2) for i in range(1,10)]\n",
    "\n",
    "for i in range(0, len(incons)):\n",
    "    for j in range(0, len(ffields)):\n",
    "        for k in range(0, len(par)):\n",
    "            df = pd.read_csv(path_dp+'/'+incons[i]+'_'+ffields[j]+'_'+par[k], index_col=0)\n",
    "            df = df.reset_index()\n",
    "            for m in range(0, len(inseqs)):\n",
    "                dfm = df['delta_'+inseqs[m]].copy()      \n",
    "                dfm.loc[150] = 0.00\n",
    "                for x in range(0, len(dfm)):\n",
    "                    A = dfm.loc[x]\n",
    "                    B = (2*(Ncirc+1)-x)-1\n",
    "                    dfm.loc[B] = A\n",
    "                dfm = dfm.sort_index()\n",
    "                \n",
    "                seq = inseqs[m]+'_'+incons[i]+'_std_'+ffields[j]\n",
    "                np.savetxt(path+'/'+seq+'_'+ep[par[k]]+'-excess.txt', dfm.values, fmt='%10.5f')\n",
    "                shutil.move(os.path.join(path, seq+'_'+ep[par[k]]+'-excess.txt'), \n",
    "                            os.path.join(pathbeta+'/'+ep[par[k]]+'_excess', seq+'_'+ep[par[k]]+'-excess.txt'))\n",
    "                del dfm,seq\n",
    "            del df"
   ]
  },
  {
   "cell_type": "code",
   "execution_count": null,
   "metadata": {
    "scrolled": true
   },
   "outputs": [],
   "source": [
    "incons  = ['oring','pcirc']\n",
    "ffields = ['kabsch','olson']\n",
    "par     = ['Roll','Twist']\n",
    "ep      = {'Roll':'roll','Twist':'twist'}\n",
    "\n",
    "inseqs = ['col'+str(i).zfill(2) for i in range(1,10)]\n",
    "\n",
    "for i in range(0, len(incons)):\n",
    "    for j in range(0, len(ffields)):\n",
    "        for k in range(0, len(par)):\n",
    "            df = pd.read_csv(path_dp+'/'+incons[i]+'_'+ffields[j]+'_'+par[k], index_col=0)\n",
    "            df = df.reset_index()\n",
    "            for m in range(0, len(inseqs)):\n",
    "                dfm = df['delta_'+inseqs[m]].copy()      \n",
    "                dfm.loc[150] = 0.00\n",
    "                for x in range(0, len(dfm)):\n",
    "                    A = dfm.loc[x]\n",
    "                    B = (2*(Ncirc+1)-x)-1\n",
    "                    dfm.loc[B] = A\n",
    "                dfm = dfm.sort_index()\n",
    "                \n",
    "                seq = inseqs[m]+'_'+incons[i]+'_std_'+ffields[j]\n",
    "                np.savetxt(path+'/'+seq+'_'+ep[par[k]]+'-excess.txt', dfm.values, fmt='%10.5f')\n",
    "                shutil.move(os.path.join(path, seq+'_'+ep[par[k]]+'-excess.txt'), \n",
    "                            os.path.join(pathbeta+'/'+ep[par[k]]+'_excess', seq+'_'+ep[par[k]]+'-excess.txt'))\n",
    "                del dfm,seq\n",
    "            del df"
   ]
  },
  {
   "cell_type": "markdown",
   "metadata": {},
   "source": [
    "# Difference (from IdealDNA)"
   ]
  },
  {
   "cell_type": "code",
   "execution_count": null,
   "metadata": {},
   "outputs": [],
   "source": [
    "incons  = ['oring','pcirc']\n",
    "ffields = ['kabsch','olson']\n",
    "\n",
    "par     = ['Roll','Twist','Bend','Energy','Dcenter']\n",
    "ep      = {'Roll':'roll','Twist':'twist','Bend':'bend','Energy':'energy','Dcenter':'radius'}\n",
    "\n",
    "inseqs = ['col'+str(i).zfill(2) for i in range(1,10)]\n",
    "\n",
    "for i in range(0, len(incons)):\n",
    "    for j in range(0, len(ffields)):\n",
    "        for k in range(0, len(par)):\n",
    "            df = pd.read_csv(path_dp+'/'+incons[i]+'_'+ffields[j]+'_'+par[k], index_col=0)\n",
    "            df = df.reset_index()\n",
    "            for m in range(0, len(inseqs)):\n",
    "                dfm = df['delta*_'+inseqs[m]].copy()      \n",
    "                dfm.loc[150] = 0.00\n",
    "                for x in range(0, len(dfm)):\n",
    "                    A = dfm.loc[x]\n",
    "                    B = (2*(Ncirc+1)-x)-1\n",
    "                    dfm.loc[B] = A\n",
    "                dfm = dfm.sort_index()\n",
    "                \n",
    "                seq = inseqs[m]+'_'+incons[i]+'_std_'+ffields[j]\n",
    "                np.savetxt(path+'/'+seq+'_'+ep[par[k]]+'-diff.txt', dfm.values, fmt='%10.5f')\n",
    "                shutil.move(os.path.join(path, seq+'_'+ep[par[k]]+'-diff.txt'), \n",
    "                            os.path.join(pathbeta+'/'+ep[par[k]]+'_diff', seq+'_'+ep[par[k]]+'-diff.txt'))\n",
    "                del dfm,seq\n",
    "            del df"
   ]
  },
  {
   "cell_type": "code",
   "execution_count": null,
   "metadata": {},
   "outputs": [],
   "source": []
  }
 ],
 "metadata": {
  "kernelspec": {
   "display_name": "Python 3",
   "language": "python",
   "name": "python3"
  },
  "language_info": {
   "codemirror_mode": {
    "name": "ipython",
    "version": 3
   },
   "file_extension": ".py",
   "mimetype": "text/x-python",
   "name": "python",
   "nbconvert_exporter": "python",
   "pygments_lexer": "ipython3",
   "version": "3.7.3"
  }
 },
 "nbformat": 4,
 "nbformat_minor": 2
}
