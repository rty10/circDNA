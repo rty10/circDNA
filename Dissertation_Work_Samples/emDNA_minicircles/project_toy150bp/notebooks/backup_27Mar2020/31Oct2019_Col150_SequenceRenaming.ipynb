{
 "cells": [
  {
   "cell_type": "markdown",
   "metadata": {},
   "source": [
    "# Col150\n",
    "## SEQUENCE RE-NUMBERING"
   ]
  },
  {
   "cell_type": "code",
   "execution_count": 7,
   "metadata": {},
   "outputs": [],
   "source": [
    "import os, sys, shutil\n",
    "import pandas as pd\n",
    "path = os.getcwd()\n",
    "\n",
    "inseqs   = ['col'+str(i).zfill(2) for i in range(1, 10, 1)]\n",
    "inseqsB  = ['seq'+str(i).zfill(2) for i in range(1, 10, 1)]\n",
    "seq_shuffle = {'col01':'seq01',\n",
    "               'col02':'seq02',\n",
    "               'col03':'seq05',\n",
    "               'col04':'seq07',\n",
    "               'col05':'seq09',\n",
    "               'col06':'seq04',\n",
    "               'col07':'seq03',\n",
    "               'col08':'seq06',\n",
    "               'col09':'seq08',\n",
    "              }\n"
   ]
  },
  {
   "cell_type": "code",
   "execution_count": 8,
   "metadata": {},
   "outputs": [
    {
     "name": "stdout",
     "output_type": "stream",
     "text": [
      "['opt_par', 'opt_refframe', 'opt_out', 'opt_topology', 'opt_log', 'opt_pdb', 'opt_grooves']\n",
      "['in_output', 'in_grooves', 'in_pdb', 'in_topology', 'in_refframe', 'in_par']\n"
     ]
    }
   ],
   "source": [
    "dirs1 = []\n",
    "dirs2 = []\n",
    "for name in os.listdir(path):\n",
    "    if 'opt_' in name:\n",
    "        dirs1.append(name)\n",
    "for name in os.listdir(path+'/initial_conditions'):\n",
    "    if 'in_' in name:\n",
    "        dirs2.append(name)\n",
    "print(dirs1)\n",
    "print(dirs2)"
   ]
  },
  {
   "cell_type": "code",
   "execution_count": 9,
   "metadata": {},
   "outputs": [],
   "source": [
    "for i in range(0, len(dirs1)):\n",
    "    path1 = path+'/'+dirs1[i]\n",
    "    for filename in sorted(os.listdir(path1)):\n",
    "        for j in range(0, len(inseqs)):\n",
    "            if inseqs[j] in filename:\n",
    "                name = filename.replace(inseqs[j], seq_shuffle[inseqs[j]])\n",
    "                os.rename(path1+'/'+filename, path1+'/'+name)\n",
    "    del path1\n",
    "\n",
    "for i in range(0, len(dirs2)):\n",
    "    path1 = path+'/initial_conditions/'+dirs2[i]\n",
    "    for filename in sorted(os.listdir(path1)):\n",
    "        for j in range(0, len(inseqs)):\n",
    "            if inseqs[j] in filename:\n",
    "                name = filename.replace(inseqs[j], seq_shuffle[inseqs[j]])\n",
    "                os.rename(path1+'/'+filename, path1+'/'+name)\n",
    "    del path1"
   ]
  },
  {
   "cell_type": "code",
   "execution_count": 10,
   "metadata": {},
   "outputs": [],
   "source": [
    "for i in range(0, len(dirs1)):\n",
    "    path1 = path+'/'+dirs1[i]\n",
    "    for filename in sorted(os.listdir(path1)):\n",
    "        name = filename.replace('seq', 'col')\n",
    "        os.rename(path1+'/'+filename, path1+'/'+name)\n",
    "    del path1\n",
    "\n",
    "for i in range(0, len(dirs2)):\n",
    "    path1 = path+'/initial_conditions/'+dirs2[i]\n",
    "    for filename in sorted(os.listdir(path1)):\n",
    "        name = filename.replace('seq', 'col')\n",
    "        os.rename(path1+'/'+filename, path1+'/'+name)\n",
    "    del path1"
   ]
  },
  {
   "cell_type": "code",
   "execution_count": null,
   "metadata": {},
   "outputs": [],
   "source": []
  }
 ],
 "metadata": {
  "kernelspec": {
   "display_name": "Python 3",
   "language": "python",
   "name": "python3"
  },
  "language_info": {
   "codemirror_mode": {
    "name": "ipython",
    "version": 3
   },
   "file_extension": ".py",
   "mimetype": "text/x-python",
   "name": "python",
   "nbconvert_exporter": "python",
   "pygments_lexer": "ipython3",
   "version": "3.7.3"
  }
 },
 "nbformat": 4,
 "nbformat_minor": 2
}
