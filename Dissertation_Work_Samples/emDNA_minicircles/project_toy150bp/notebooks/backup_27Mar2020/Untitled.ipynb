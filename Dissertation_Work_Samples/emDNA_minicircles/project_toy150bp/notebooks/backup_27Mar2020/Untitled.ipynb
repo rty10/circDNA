{
 "cells": [
  {
   "cell_type": "code",
   "execution_count": 1,
   "metadata": {},
   "outputs": [],
   "source": [
    "import os, sys, shutil, subprocess, glob\n",
    "path = os.getcwd()\n",
    "\n",
    "seqtypes  = ['std','c05a','c15a','c20a','c30a']\n",
    "incons    = ['oring','pcirc']\n",
    "sequences = [\"col\"+str(i).zfill(2) for i in range(1, 11)]\n",
    "dirs      = ['opt_log','opt_out','opt_par','opt_pdb','opt_refframe','opt_topology']"
   ]
  },
  {
   "cell_type": "code",
   "execution_count": 2,
   "metadata": {},
   "outputs": [
    {
     "name": "stdout",
     "output_type": "stream",
     "text": [
      "7743\n"
     ]
    }
   ],
   "source": [
    "opttop = os.listdir(path+'/opt_topology')\n",
    "opttop = [i.split('.')[0].lstrip('topo_') for i in opttop]\n",
    "print(len(opttop))"
   ]
  },
  {
   "cell_type": "code",
   "execution_count": 3,
   "metadata": {},
   "outputs": [],
   "source": [
    "def rf_to_topology(initial_condition, sequence_length):\n",
    "    infile = open(initial_condition, 'r')\n",
    "    indat  = infile.readlines()\n",
    "    infile.close()\n",
    "    outfile = open(initial_condition, 'w')\n",
    "    if len(indat) == 5*sequence_length+1:\n",
    "        outfile.writelines([i for i in indat])\n",
    "        circle = indat[1:6]\n",
    "        outfile.writelines([i for i in circle])\n",
    "    elif len(indat) == 5*sequence_length+6:\n",
    "        outfile.writelines([i for i in indat[:-5]])\n",
    "    outfile.close()\n",
    "    return\n"
   ]
  },
  {
   "cell_type": "code",
   "execution_count": 4,
   "metadata": {},
   "outputs": [],
   "source": [
    "for filename in os.listdir(path+'/opt_refframe'):\n",
    "    name = filename.split('.')[0]\n",
    "    if name not in opttop:\n",
    "        os.chdir('opt_refframe')\n",
    "        # Add first bp to last bp\n",
    "        rf_to_topology(name+\".dat\", 150)\n",
    "        # run emDNA_topology\n",
    "        subprocess.run(\"emDNA_topology --x3DNA-bp-input=\"+name+\".dat>topo_\"+name+\".txt --twist-density --virtual-last-bp\", shell=True)\n",
    "        shutil.move(path+\"/opt_refframe/topo_\"+name+\".txt\", path)\n",
    "        # remove last bp\n",
    "        rf_to_topology(name+\".dat\", 150)\n",
    "        os.chdir(os.pardir)"
   ]
  },
  {
   "cell_type": "code",
   "execution_count": null,
   "metadata": {},
   "outputs": [],
   "source": []
  }
 ],
 "metadata": {
  "kernelspec": {
   "display_name": "Python 3",
   "language": "python",
   "name": "python3"
  },
  "language_info": {
   "codemirror_mode": {
    "name": "ipython",
    "version": 3
   },
   "file_extension": ".py",
   "mimetype": "text/x-python",
   "name": "python",
   "nbconvert_exporter": "python",
   "pygments_lexer": "ipython3",
   "version": "3.6.8"
  }
 },
 "nbformat": 4,
 "nbformat_minor": 2
}
