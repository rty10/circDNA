{
 "cells": [
  {
   "cell_type": "code",
   "execution_count": 1,
   "metadata": {},
   "outputs": [],
   "source": [
    "import os, sys, shutil, subprocess\n",
    "import numpy as np\n",
    "path = os.getcwd()"
   ]
  },
  {
   "cell_type": "code",
   "execution_count": 5,
   "metadata": {},
   "outputs": [],
   "source": [
    "Ncirc = 150"
   ]
  },
  {
   "cell_type": "code",
   "execution_count": 14,
   "metadata": {},
   "outputs": [],
   "source": [
    "bp_list = ['AT','TA','CG','GC']\n",
    "bp_dict = {'AT':'A-T', 'TA':'T-A', 'CG':'C-G', 'GC':'G-C'}\n",
    "\n",
    "for filename in os.listdir(path+'/opt_refframe'):\n",
    "    if filename.endswith('.txt'):\n",
    "        infile = open(path+'/opt_refframe/'+filename, 'r')\n",
    "        indata = infile.readlines()\n",
    "        infile.close()\n",
    "        indata = [i.rstrip('\\n') for i in indata]\n",
    "        indata[0] = indata[0].replace(\"151\", str(Ncirc))\n",
    "        \n",
    "        del indata[-5:]\n",
    "\n",
    "        name, ext = filename.split('.')\n",
    "        for i in range(0, len(indata)):\n",
    "            for j in range(0, len(bp_list)):\n",
    "                if bp_list[j] in indata[i]:\n",
    "                    indata[i] = indata[i].replace(indata[i], \"... \"+indata[i].split()[1]+' '+bp_dict[bp_list[j]]+' ...')\n",
    "        for i in range(1, len(indata)):\n",
    "            if len(indata[i].split()) == 3:\n",
    "                x, y, z = indata[i].split()\n",
    "                indata[i] = '{:<10} {:>13} {:>15}'.format(round(float(x), 6), round(float(y), 6), round(float(z), 6))\n",
    "\n",
    "        outfile = open(path+'/opt_refframe/'+name+'.dat', 'w')\n",
    "        for i in range(0, len(indata)):\n",
    "            outfile.write(indata[i]+'\\n')\n",
    "        outfile.close()\n",
    "        del indata"
   ]
  },
  {
   "cell_type": "code",
   "execution_count": 15,
   "metadata": {},
   "outputs": [],
   "source": [
    "os.mkdir(path+'/opt_refframe_backup')\n",
    "for filename in os.listdir(path+'/opt_refframe'):\n",
    "    if filename.endswith('.txt'):\n",
    "        shutil.move(path+'/opt_refframe/'+filename,\n",
    "                    path+'/opt_refframe_backup')"
   ]
  },
  {
   "cell_type": "code",
   "execution_count": null,
   "metadata": {},
   "outputs": [],
   "source": []
  }
 ],
 "metadata": {
  "kernelspec": {
   "display_name": "Python 3",
   "language": "python",
   "name": "python3"
  },
  "language_info": {
   "codemirror_mode": {
    "name": "ipython",
    "version": 3
   },
   "file_extension": ".py",
   "mimetype": "text/x-python",
   "name": "python",
   "nbconvert_exporter": "python",
   "pygments_lexer": "ipython3",
   "version": "3.6.8"
  }
 },
 "nbformat": 4,
 "nbformat_minor": 2
}
