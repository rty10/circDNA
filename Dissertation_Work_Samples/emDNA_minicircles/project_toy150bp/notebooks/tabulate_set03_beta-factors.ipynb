{
 "cells": [
  {
   "cell_type": "markdown",
   "metadata": {},
   "source": [
    "# Beta Factor values"
   ]
  },
  {
   "cell_type": "code",
   "execution_count": 1,
   "metadata": {},
   "outputs": [],
   "source": [
    "import os, sys, shutil\n",
    "import pandas as pd\n",
    "import numpy as np\n",
    "import scipy as sp\n",
    "import matplotlib.pyplot as plt\n",
    "from matplotlib.offsetbox import AnchoredText\n",
    "from scipy import spatial\n",
    "\n",
    "path     = os.getcwd()\n",
    "if 'Young_Research' in path:\n",
    "    ffpath   = \"C:\\\\Users\\\\Young_Research\\\\Documents\\\\Rutgers\\\\Research\\\\2020_PHY_MSc\\\\data\\\\forcefields\"\n",
    "    inpath   = \"C:\\\\Users\\\\Young_Research\\\\Documents\\\\Rutgers\\\\Research\\\\2020_PHY_MSc\\\\data\\\\initial_conditions\"\n",
    "else:\n",
    "    ffpath   = \"/home/rty10/Documents/Experiments/Optimizations/Opt_ForceFields\"\n",
    "    inpath   = \"\"\n",
    "\n",
    "pathpdb   = path+'/opt_pdb'\n",
    "pathinpdb = inpath+'/in_pdb'\n",
    "\n",
    "pathdata  = path+'/opt_det-seqs'\n",
    "pathinpar = inpath+'/in_circ_par'\n",
    "\n",
    "if not os.path.exists(pathpdb+'/beta_factors'):\n",
    "    os.mkdir(pathpdb+\"/beta_factors\")\n",
    "pathbf = pathpdb+\"/beta_factors\"\n",
    "\n"
   ]
  },
  {
   "cell_type": "code",
   "execution_count": 2,
   "metadata": {},
   "outputs": [],
   "source": [
    "inseqs      = [\"col\"+str(i).zfill(2) for i in range(5, 10)]\n",
    "incons      = ['pc14','pc15','or15']\n",
    "forcefields = ['ideal-frt','bdna98-frt','kabsch-frt','zhurkin-frt','kabzhur-frt',\n",
    "               'ideal-crt','bdna98-crt','kabsch-crt','zhurkin-crt','kabzhur-crt']\n",
    "\n",
    "\n",
    "lst = []\n",
    "for filename in os.listdir(pathpdb):\n",
    "    if filename.endswith('.pdb'):\n",
    "        lst.append(filename.split('.')[0])\n",
    "lst = sorted(lst)\n",
    "\n",
    "Nseq = 150"
   ]
  },
  {
   "cell_type": "markdown",
   "metadata": {},
   "source": [
    "Make a series of files that will act as beta factor replacements in PyMol.\n",
    "\n",
    "Get a set of EXCESS files where $\\Delta$par = $par_{i}$ - $par_{rs}$ for: Twist, Bend\n",
    "\n",
    "Get a set of NORMALIZED files for dispersion of parameters: Twist, Bend, Energy\n",
    "\n",
    "Get a set of SHIFTED DIFFERENCE files, where shift(par) = $par_{i}$ - $\\langle{par}\\rangle$ for: Twist, Bend\n",
    "\n",
    "Get a set of DIFFERNCE files, where diff(par) = $par^{opt}_{i}$ - $par^{in}_{i}$ for: Twist, Bend"
   ]
  },
  {
   "cell_type": "code",
   "execution_count": 3,
   "metadata": {},
   "outputs": [],
   "source": [
    "for i in range(len(lst)):\n",
    "    datadf = pd.read_csv(path+\"/opt_pars-diff/\"+lst[i]+\"_bps-diffdata.txt\")\n",
    "\n",
    "    outfile = open(pathbf+'/'+lst[i]+'_bf-twist-excess.txt','w')\n",
    "    for k in range(0, len(datadf)):\n",
    "        val = datadf.at[k, 'excess_twist']\n",
    "        outfile.write(str(round(val, 5))+'\\n')\n",
    "    outfile.close()\n",
    "\n",
    "    outfile = open(pathbf+'/'+lst[i]+'_bf-bend-excess.txt','w')\n",
    "    for k in range(0, len(datadf)):\n",
    "        val = datadf.at[k, 'excess_bend']\n",
    "        outfile.write(str(round(val, 5))+'\\n')\n",
    "    outfile.close()\n",
    "    \n",
    "    del datadf"
   ]
  },
  {
   "cell_type": "code",
   "execution_count": 4,
   "metadata": {},
   "outputs": [],
   "source": [
    "for i in range(len(lst)):\n",
    "    datadf = pd.read_csv(path+\"/opt_pars-diff/\"+lst[i]+\"_bps-diffdata.txt\")\n",
    "\n",
    "    outfile = open(pathbf+'/'+lst[i]+'_bf-twist-shift.txt','w')\n",
    "    for k in range(0, len(datadf)):\n",
    "        val = datadf.at[k, 'shift_twist']\n",
    "        outfile.write(str(round(val, 5))+'\\n')\n",
    "    outfile.close()\n",
    "\n",
    "    outfile = open(pathbf+'/'+lst[i]+'_bf-bend-shift.txt','w')\n",
    "    for k in range(0, len(datadf)):\n",
    "        val = datadf.at[k, 'shift_bend']\n",
    "        outfile.write(str(round(val, 5))+'\\n')\n",
    "    outfile.close()\n",
    "    \n",
    "    del datadf"
   ]
  },
  {
   "cell_type": "code",
   "execution_count": 5,
   "metadata": {},
   "outputs": [],
   "source": [
    "for i in range(len(lst)):\n",
    "    datadf = pd.read_csv(path+\"/opt_pars-diff/\"+lst[i]+\"_bps-diffdata.txt\")\n",
    "\n",
    "    outfile = open(pathbf+'/'+lst[i]+'_bf-twist-diff.txt','w')\n",
    "    for k in range(0, len(datadf)):\n",
    "        val = datadf.at[k, 'delta_twist']\n",
    "        outfile.write(str(round(val, 5))+'\\n')\n",
    "    outfile.close()\n",
    "\n",
    "    outfile = open(pathbf+'/'+lst[i]+'_bf-bend-diff.txt','w')\n",
    "    for k in range(0, len(datadf)):\n",
    "        val = datadf.at[k, 'delta_bend']\n",
    "        outfile.write(str(round(val, 5))+'\\n')\n",
    "    outfile.close()\n",
    "    \n",
    "    del datadf"
   ]
  },
  {
   "cell_type": "code",
   "execution_count": 6,
   "metadata": {},
   "outputs": [],
   "source": [
    "for i in range(len(lst)):\n",
    "    datadf = pd.read_csv(path+\"/opt_det-seqs/\"+lst[i]+\"_bps-data.txt\", sep='\\s+', skiprows=1)\n",
    "    datadf2 = datadf[1:]\n",
    "    \n",
    "    slot = datadf[1:].Energy\n",
    "    normopt = ( slot-min(slot) ) / ( max(slot) - min(slot) )\n",
    "    A = normopt.to_list()\n",
    "    outfile = open(pathbf+'/'+lst[i]+'_bf-energy-norm.txt','w')\n",
    "    for k in range(0, len(A)):\n",
    "        outfile.write(str(round(float(A[k]), 5))+'\\n')\n",
    "    outfile.close()\n",
    "    del slot, normopt, A\n",
    "\n",
    "\n",
    "    slot = datadf[1:].Bend\n",
    "    normopt = ( slot-min(slot) ) / ( max(slot) - min(slot) )\n",
    "    A = normopt.to_list()\n",
    "    outfile = open(pathbf+'/'+lst[i]+'_bf-bend-norm.txt','w')\n",
    "    for k in range(0, len(A)):\n",
    "        outfile.write(str(round(float(A[k]), 5))+'\\n')\n",
    "    outfile.close()\n",
    "    del slot, normopt, A\n",
    "\n",
    "    slot = datadf[1:].Twist\n",
    "    normopt = ( slot-min(slot) ) / ( max(slot) - min(slot) )\n",
    "    A = normopt.to_list()\n",
    "    outfile = open(pathbf+'/'+lst[i]+'_bf-twist-norm.txt','w')\n",
    "    for k in range(0, len(A)):\n",
    "        outfile.write(str(round(float(A[k]), 5))+'\\n')\n",
    "    outfile.close()\n",
    "    del slot, normopt, A\n",
    "\n",
    "    del datadf, datadf2"
   ]
  },
  {
   "cell_type": "code",
   "execution_count": null,
   "metadata": {},
   "outputs": [],
   "source": []
  }
 ],
 "metadata": {
  "kernelspec": {
   "display_name": "Python 3",
   "language": "python",
   "name": "python3"
  },
  "language_info": {
   "codemirror_mode": {
    "name": "ipython",
    "version": 3
   },
   "file_extension": ".py",
   "mimetype": "text/x-python",
   "name": "python",
   "nbconvert_exporter": "python",
   "pygments_lexer": "ipython3",
   "version": "3.7.6"
  }
 },
 "nbformat": 4,
 "nbformat_minor": 2
}
