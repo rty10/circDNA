{
 "cells": [
  {
   "cell_type": "code",
   "execution_count": 1,
   "id": "d0f9bd61-1eec-42ac-95ab-ba9afdc789b3",
   "metadata": {},
   "outputs": [],
   "source": [
    "import os, math, sys, scipy\n",
    "import pandas as pd\n",
    "import numpy as np\n",
    "import matplotlib\n",
    "import matplotlib.pyplot as plt\n",
    "from mpl_toolkits.mplot3d import Axes3D\n",
    "import seaborn as sns\n",
    "\n",
    "path    = os.getcwd()\n",
    "optpath = path+'/optimization_data'\n",
    "inpath  = path+'/initial_data'"
   ]
  },
  {
   "cell_type": "code",
   "execution_count": 2,
   "id": "d616dfb3-18c9-41af-bcf1-164140ea42b0",
   "metadata": {},
   "outputs": [],
   "source": [
    "maindf = pd.read_csv(\"2021Oct_mcirc\", index_col=0)\n",
    "df01 = maindf.loc[(maindf.incon=='over')].reset_index(drop=True)\n",
    "df02 = maindf.loc[(maindf.incon=='std')].reset_index(drop=True)\n",
    "df03 = maindf.loc[(maindf.incon=='under')].reset_index(drop=True)\n",
    "del maindf\n",
    "\n",
    "df01['jfactor']=np.exp(-1*df01.eopt)\n",
    "df02['jfactor']=np.exp(-1*df02.eopt)\n",
    "df03['jfactor']=np.exp(-1*df03.eopt)\n",
    "\n",
    "compdf = pd.read_csv(\"czapla_jctc_2012.csv\", index_col=0)\n",
    "compdf['eopt'] = -1*np.log(compdf.jfactor)"
   ]
  },
  {
   "cell_type": "code",
   "execution_count": 3,
   "id": "bizarre-wisdom",
   "metadata": {
    "scrolled": true
   },
   "outputs": [
    {
     "data": {
      "text/html": [
       "<div>\n",
       "<style scoped>\n",
       "    .dataframe tbody tr th:only-of-type {\n",
       "        vertical-align: middle;\n",
       "    }\n",
       "\n",
       "    .dataframe tbody tr th {\n",
       "        vertical-align: top;\n",
       "    }\n",
       "\n",
       "    .dataframe thead th {\n",
       "        text-align: right;\n",
       "    }\n",
       "</style>\n",
       "<table border=\"1\" class=\"dataframe\">\n",
       "  <thead>\n",
       "    <tr style=\"text-align: right;\">\n",
       "      <th></th>\n",
       "      <th>length</th>\n",
       "      <th>incon</th>\n",
       "      <th>forcefield</th>\n",
       "      <th>eo</th>\n",
       "      <th>eopt</th>\n",
       "      <th>eopt_elastic</th>\n",
       "      <th>eopt_tilt</th>\n",
       "      <th>eopt_roll</th>\n",
       "      <th>eopt_twist</th>\n",
       "      <th>eopt_shift</th>\n",
       "      <th>eopt_slide</th>\n",
       "      <th>eopt_rise</th>\n",
       "      <th>wr</th>\n",
       "      <th>tw</th>\n",
       "      <th>lk</th>\n",
       "      <th>jfactor</th>\n",
       "    </tr>\n",
       "  </thead>\n",
       "  <tbody>\n",
       "    <tr>\n",
       "      <th>0</th>\n",
       "      <td>105</td>\n",
       "      <td>over</td>\n",
       "      <td>ideal</td>\n",
       "      <td>1203.210071</td>\n",
       "      <td>63.083420</td>\n",
       "      <td>63.0834</td>\n",
       "      <td>13.175900</td>\n",
       "      <td>13.175858</td>\n",
       "      <td>36.620056</td>\n",
       "      <td>0.055802</td>\n",
       "      <td>0.055802</td>\n",
       "      <td>0.000001</td>\n",
       "      <td>-3.435980e-09</td>\n",
       "      <td>9.0</td>\n",
       "      <td>9.0</td>\n",
       "      <td>4.010687e-28</td>\n",
       "    </tr>\n",
       "    <tr>\n",
       "      <th>1</th>\n",
       "      <td>106</td>\n",
       "      <td>over</td>\n",
       "      <td>ideal</td>\n",
       "      <td>533.153622</td>\n",
       "      <td>26.433410</td>\n",
       "      <td>26.4334</td>\n",
       "      <td>13.051689</td>\n",
       "      <td>13.051704</td>\n",
       "      <td>0.329033</td>\n",
       "      <td>0.000492</td>\n",
       "      <td>0.000492</td>\n",
       "      <td>0.000000</td>\n",
       "      <td>7.954010e-12</td>\n",
       "      <td>10.0</td>\n",
       "      <td>10.0</td>\n",
       "      <td>3.312195e-12</td>\n",
       "    </tr>\n",
       "    <tr>\n",
       "      <th>2</th>\n",
       "      <td>107</td>\n",
       "      <td>over</td>\n",
       "      <td>ideal</td>\n",
       "      <td>312.226075</td>\n",
       "      <td>27.167289</td>\n",
       "      <td>27.1673</td>\n",
       "      <td>12.929712</td>\n",
       "      <td>12.929719</td>\n",
       "      <td>1.304031</td>\n",
       "      <td>0.001913</td>\n",
       "      <td>0.001913</td>\n",
       "      <td>0.000000</td>\n",
       "      <td>-3.191620e-11</td>\n",
       "      <td>10.0</td>\n",
       "      <td>10.0</td>\n",
       "      <td>1.589997e-12</td>\n",
       "    </tr>\n",
       "    <tr>\n",
       "      <th>3</th>\n",
       "      <td>108</td>\n",
       "      <td>over</td>\n",
       "      <td>ideal</td>\n",
       "      <td>155.246178</td>\n",
       "      <td>28.535615</td>\n",
       "      <td>28.5356</td>\n",
       "      <td>12.809987</td>\n",
       "      <td>12.809997</td>\n",
       "      <td>2.907257</td>\n",
       "      <td>0.004187</td>\n",
       "      <td>0.004187</td>\n",
       "      <td>0.000000</td>\n",
       "      <td>4.822630e-12</td>\n",
       "      <td>10.0</td>\n",
       "      <td>10.0</td>\n",
       "      <td>4.047062e-13</td>\n",
       "    </tr>\n",
       "    <tr>\n",
       "      <th>4</th>\n",
       "      <td>109</td>\n",
       "      <td>over</td>\n",
       "      <td>ideal</td>\n",
       "      <td>62.213784</td>\n",
       "      <td>30.521022</td>\n",
       "      <td>30.5210</td>\n",
       "      <td>12.692455</td>\n",
       "      <td>12.692470</td>\n",
       "      <td>5.121616</td>\n",
       "      <td>0.007240</td>\n",
       "      <td>0.007240</td>\n",
       "      <td>0.000000</td>\n",
       "      <td>-2.718690e-11</td>\n",
       "      <td>10.0</td>\n",
       "      <td>10.0</td>\n",
       "      <td>5.557616e-14</td>\n",
       "    </tr>\n",
       "    <tr>\n",
       "      <th>5</th>\n",
       "      <td>110</td>\n",
       "      <td>over</td>\n",
       "      <td>ideal</td>\n",
       "      <td>33.128833</td>\n",
       "      <td>33.106772</td>\n",
       "      <td>33.1068</td>\n",
       "      <td>12.577075</td>\n",
       "      <td>12.577063</td>\n",
       "      <td>7.930619</td>\n",
       "      <td>0.011007</td>\n",
       "      <td>0.011007</td>\n",
       "      <td>0.000000</td>\n",
       "      <td>-4.351990e-11</td>\n",
       "      <td>10.0</td>\n",
       "      <td>10.0</td>\n",
       "      <td>4.187083e-15</td>\n",
       "    </tr>\n",
       "    <tr>\n",
       "      <th>6</th>\n",
       "      <td>111</td>\n",
       "      <td>over</td>\n",
       "      <td>ideal</td>\n",
       "      <td>67.991169</td>\n",
       "      <td>36.276725</td>\n",
       "      <td>36.2767</td>\n",
       "      <td>12.463765</td>\n",
       "      <td>12.463743</td>\n",
       "      <td>11.318363</td>\n",
       "      <td>0.015427</td>\n",
       "      <td>0.015427</td>\n",
       "      <td>0.000000</td>\n",
       "      <td>-2.409320e-10</td>\n",
       "      <td>10.0</td>\n",
       "      <td>10.0</td>\n",
       "      <td>1.758808e-16</td>\n",
       "    </tr>\n",
       "    <tr>\n",
       "      <th>7</th>\n",
       "      <td>112</td>\n",
       "      <td>over</td>\n",
       "      <td>ideal</td>\n",
       "      <td>166.800722</td>\n",
       "      <td>40.015313</td>\n",
       "      <td>40.0153</td>\n",
       "      <td>12.352466</td>\n",
       "      <td>12.352456</td>\n",
       "      <td>15.269511</td>\n",
       "      <td>0.020440</td>\n",
       "      <td>0.020440</td>\n",
       "      <td>0.000000</td>\n",
       "      <td>-3.278960e-11</td>\n",
       "      <td>10.0</td>\n",
       "      <td>10.0</td>\n",
       "      <td>4.183795e-18</td>\n",
       "    </tr>\n",
       "    <tr>\n",
       "      <th>8</th>\n",
       "      <td>113</td>\n",
       "      <td>over</td>\n",
       "      <td>ideal</td>\n",
       "      <td>329.557323</td>\n",
       "      <td>44.307511</td>\n",
       "      <td>44.3075</td>\n",
       "      <td>12.243132</td>\n",
       "      <td>12.243143</td>\n",
       "      <td>19.769244</td>\n",
       "      <td>0.025996</td>\n",
       "      <td>0.025996</td>\n",
       "      <td>0.000000</td>\n",
       "      <td>-8.599970e-11</td>\n",
       "      <td>10.0</td>\n",
       "      <td>10.0</td>\n",
       "      <td>5.721270e-20</td>\n",
       "    </tr>\n",
       "    <tr>\n",
       "      <th>9</th>\n",
       "      <td>114</td>\n",
       "      <td>over</td>\n",
       "      <td>ideal</td>\n",
       "      <td>556.260889</td>\n",
       "      <td>49.138824</td>\n",
       "      <td>49.1388</td>\n",
       "      <td>12.135720</td>\n",
       "      <td>12.135741</td>\n",
       "      <td>24.803277</td>\n",
       "      <td>0.032043</td>\n",
       "      <td>0.032043</td>\n",
       "      <td>0.000000</td>\n",
       "      <td>-5.678830e-10</td>\n",
       "      <td>10.0</td>\n",
       "      <td>10.0</td>\n",
       "      <td>4.563309e-22</td>\n",
       "    </tr>\n",
       "  </tbody>\n",
       "</table>\n",
       "</div>"
      ],
      "text/plain": [
       "   length incon forcefield           eo       eopt  eopt_elastic  eopt_tilt  \\\n",
       "0     105  over      ideal  1203.210071  63.083420       63.0834  13.175900   \n",
       "1     106  over      ideal   533.153622  26.433410       26.4334  13.051689   \n",
       "2     107  over      ideal   312.226075  27.167289       27.1673  12.929712   \n",
       "3     108  over      ideal   155.246178  28.535615       28.5356  12.809987   \n",
       "4     109  over      ideal    62.213784  30.521022       30.5210  12.692455   \n",
       "5     110  over      ideal    33.128833  33.106772       33.1068  12.577075   \n",
       "6     111  over      ideal    67.991169  36.276725       36.2767  12.463765   \n",
       "7     112  over      ideal   166.800722  40.015313       40.0153  12.352466   \n",
       "8     113  over      ideal   329.557323  44.307511       44.3075  12.243132   \n",
       "9     114  over      ideal   556.260889  49.138824       49.1388  12.135720   \n",
       "\n",
       "   eopt_roll  eopt_twist  eopt_shift  eopt_slide  eopt_rise            wr  \\\n",
       "0  13.175858   36.620056    0.055802    0.055802   0.000001 -3.435980e-09   \n",
       "1  13.051704    0.329033    0.000492    0.000492   0.000000  7.954010e-12   \n",
       "2  12.929719    1.304031    0.001913    0.001913   0.000000 -3.191620e-11   \n",
       "3  12.809997    2.907257    0.004187    0.004187   0.000000  4.822630e-12   \n",
       "4  12.692470    5.121616    0.007240    0.007240   0.000000 -2.718690e-11   \n",
       "5  12.577063    7.930619    0.011007    0.011007   0.000000 -4.351990e-11   \n",
       "6  12.463743   11.318363    0.015427    0.015427   0.000000 -2.409320e-10   \n",
       "7  12.352456   15.269511    0.020440    0.020440   0.000000 -3.278960e-11   \n",
       "8  12.243143   19.769244    0.025996    0.025996   0.000000 -8.599970e-11   \n",
       "9  12.135741   24.803277    0.032043    0.032043   0.000000 -5.678830e-10   \n",
       "\n",
       "     tw    lk       jfactor  \n",
       "0   9.0   9.0  4.010687e-28  \n",
       "1  10.0  10.0  3.312195e-12  \n",
       "2  10.0  10.0  1.589997e-12  \n",
       "3  10.0  10.0  4.047062e-13  \n",
       "4  10.0  10.0  5.557616e-14  \n",
       "5  10.0  10.0  4.187083e-15  \n",
       "6  10.0  10.0  1.758808e-16  \n",
       "7  10.0  10.0  4.183795e-18  \n",
       "8  10.0  10.0  5.721270e-20  \n",
       "9  10.0  10.0  4.563309e-22  "
      ]
     },
     "execution_count": 3,
     "metadata": {},
     "output_type": "execute_result"
    }
   ],
   "source": [
    "df01.head(10)"
   ]
  },
  {
   "cell_type": "code",
   "execution_count": 5,
   "id": "61acd564-e193-4f91-a751-63231bdc9026",
   "metadata": {},
   "outputs": [
    {
     "data": {
      "text/html": [
       "<div>\n",
       "<style scoped>\n",
       "    .dataframe tbody tr th:only-of-type {\n",
       "        vertical-align: middle;\n",
       "    }\n",
       "\n",
       "    .dataframe tbody tr th {\n",
       "        vertical-align: top;\n",
       "    }\n",
       "\n",
       "    .dataframe thead th {\n",
       "        text-align: right;\n",
       "    }\n",
       "</style>\n",
       "<table border=\"1\" class=\"dataframe\">\n",
       "  <thead>\n",
       "    <tr style=\"text-align: right;\">\n",
       "      <th></th>\n",
       "      <th>jfactor</th>\n",
       "      <th>eopt</th>\n",
       "    </tr>\n",
       "    <tr>\n",
       "      <th>length</th>\n",
       "      <th></th>\n",
       "      <th></th>\n",
       "    </tr>\n",
       "  </thead>\n",
       "  <tbody>\n",
       "    <tr>\n",
       "      <th>120</th>\n",
       "      <td>4.640000e-12</td>\n",
       "      <td>26.096307</td>\n",
       "    </tr>\n",
       "    <tr>\n",
       "      <th>121</th>\n",
       "      <td>9.500000e-13</td>\n",
       "      <td>27.682314</td>\n",
       "    </tr>\n",
       "    <tr>\n",
       "      <th>122</th>\n",
       "      <td>2.810000e-12</td>\n",
       "      <td>26.597837</td>\n",
       "    </tr>\n",
       "    <tr>\n",
       "      <th>123</th>\n",
       "      <td>1.620000e-11</td>\n",
       "      <td>24.846010</td>\n",
       "    </tr>\n",
       "    <tr>\n",
       "      <th>124</th>\n",
       "      <td>5.350000e-11</td>\n",
       "      <td>23.651339</td>\n",
       "    </tr>\n",
       "    <tr>\n",
       "      <th>125</th>\n",
       "      <td>1.390000e-10</td>\n",
       "      <td>22.696547</td>\n",
       "    </tr>\n",
       "    <tr>\n",
       "      <th>126</th>\n",
       "      <td>1.930000e-10</td>\n",
       "      <td>22.368331</td>\n",
       "    </tr>\n",
       "    <tr>\n",
       "      <th>127</th>\n",
       "      <td>2.180000e-10</td>\n",
       "      <td>22.246526</td>\n",
       "    </tr>\n",
       "    <tr>\n",
       "      <th>128</th>\n",
       "      <td>1.590000e-10</td>\n",
       "      <td>22.562117</td>\n",
       "    </tr>\n",
       "    <tr>\n",
       "      <th>129</th>\n",
       "      <td>8.790000e-11</td>\n",
       "      <td>23.154821</td>\n",
       "    </tr>\n",
       "  </tbody>\n",
       "</table>\n",
       "</div>"
      ],
      "text/plain": [
       "             jfactor       eopt\n",
       "length                         \n",
       "120     4.640000e-12  26.096307\n",
       "121     9.500000e-13  27.682314\n",
       "122     2.810000e-12  26.597837\n",
       "123     1.620000e-11  24.846010\n",
       "124     5.350000e-11  23.651339\n",
       "125     1.390000e-10  22.696547\n",
       "126     1.930000e-10  22.368331\n",
       "127     2.180000e-10  22.246526\n",
       "128     1.590000e-10  22.562117\n",
       "129     8.790000e-11  23.154821"
      ]
     },
     "execution_count": 5,
     "metadata": {},
     "output_type": "execute_result"
    }
   ],
   "source": [
    "compdf.head(10)"
   ]
  },
  {
   "cell_type": "code",
   "execution_count": 5,
   "id": "foreign-champion",
   "metadata": {
    "scrolled": true
   },
   "outputs": [
    {
     "data": {
      "text/plain": [
       "<AxesSubplot:>"
      ]
     },
     "execution_count": 5,
     "metadata": {},
     "output_type": "execute_result"
    },
    {
     "data": {
      "image/png": "[encoded data removed]",
      "text/plain": [
       "<Figure size 432x288 with 1 Axes>"
      ]
     },
     "metadata": {
      "needs_background": "light"
     },
     "output_type": "display_data"
    }
   ],
   "source": [
    "df01.lk.plot(color=\"red\")\n",
    "df02.lk.plot(color=\"blue\")\n",
    "df03.lk.plot(color=\"green\")"
   ]
  },
  {
   "cell_type": "code",
   "execution_count": 6,
   "id": "cardiac-chile",
   "metadata": {},
   "outputs": [
    {
     "data": {
      "text/plain": [
       "<AxesSubplot:xlabel='length'>"
      ]
     },
     "execution_count": 6,
     "metadata": {},
     "output_type": "execute_result"
    },
    {
     "data": {
      "image/png": "[encoded data removed]",
      "text/plain": [
       "<Figure size 432x288 with 1 Axes>"
      ]
     },
     "metadata": {
      "needs_background": "light"
     },
     "output_type": "display_data"
    }
   ],
   "source": [
    "df01.eopt.plot()\n",
    "df02.eopt.plot()\n",
    "df03.eopt.plot()\n",
    "compdf.eopt.plot()"
   ]
  },
  {
   "cell_type": "code",
   "execution_count": 9,
   "id": "de739afa",
   "metadata": {},
   "outputs": [
    {
     "data": {
      "image/png": "[encoded data removed]",
      "text/plain": [
       "<Figure size 504x288 with 1 Axes>"
      ]
     },
     "metadata": {
      "needs_background": "light"
     },
     "output_type": "display_data"
    },
    {
     "data": {
      "text/plain": [
       "<Figure size 432x288 with 0 Axes>"
      ]
     },
     "metadata": {},
     "output_type": "display_data"
    }
   ],
   "source": [
    "fig, ax = plt.subplots(1, 1, figsize=(7,4))\n",
    "\n",
    "df01.plot(kind='scatter', x='length', y='eopt_twist', marker='+', s=50,\n",
    "                                           color='gold', ax=ax)\n",
    "\n",
    "df02.plot(kind='scatter', x='length', y='eopt_twist', marker='s', s=50,\n",
    "                                           color='black', ax=ax)\n",
    "\n",
    "df03.plot(kind='scatter', x='length', y='eopt_twist', marker='x', s=50,\n",
    "                                           color='red', ax=ax)\n",
    "\n",
    "ax.axvline(x=137)\n",
    "ax.axvline(x=138)\n",
    "\n",
    "\n",
    "plt.show()\n",
    "plt.clf()\n"
   ]
  },
  {
   "cell_type": "code",
   "execution_count": 10,
   "id": "7ccdcb52-471d-4371-adbe-f4e09fe1921e",
   "metadata": {},
   "outputs": [
    {
     "data": {
      "image/png": "[encoded data removed]",
      "text/plain": [
       "<Figure size 504x288 with 1 Axes>"
      ]
     },
     "metadata": {
      "needs_background": "light"
     },
     "output_type": "display_data"
    },
    {
     "data": {
      "text/plain": [
       "<Figure size 432x288 with 0 Axes>"
      ]
     },
     "metadata": {},
     "output_type": "display_data"
    }
   ],
   "source": [
    "fig, ax = plt.subplots(1, 1, figsize=(7,4))\n",
    "\n",
    "df01.plot(kind='scatter', x='length', y='eopt', marker='+', s=50,\n",
    "                                           color='gold', ax=ax)\n",
    "\n",
    "df02.plot(kind='scatter', x='length', y='eopt', marker='.', s=50,\n",
    "                                           color='black', ax=ax)\n",
    "\n",
    "df03.plot(kind='scatter', x='length', y='eopt', marker='x', s=50,\n",
    "                                           color='red', ax=ax)\n",
    "\n",
    "compdf.reset_index().plot(kind='scatter', x='length', y='eopt', s=50,\n",
    "                          marker='s', color='dodgerblue', edgecolor='black', alpha=0.75, ax=ax)\n",
    "\n",
    "plt.show()\n",
    "plt.clf()"
   ]
  },
  {
   "cell_type": "code",
   "execution_count": 11,
   "id": "8fb66295-131a-4a83-a326-c4a190cf2ff9",
   "metadata": {},
   "outputs": [],
   "source": [
    "log_df = pd.DataFrame(columns=[\"mcirc_over\", \"mcirc_std\", \"mcirc_under\", \"jctc\"], index=[i for i in range(120, 151)])\n",
    "\n",
    "df_over = df01.reset_index(drop=True).set_index('length')\n",
    "df_std  = df02.reset_index(drop=True).set_index('length')\n",
    "df_under = df03.reset_index(drop=True).set_index('length')\n",
    "\n",
    "for i in range(120, 151):\n",
    "    log_df.at[i, \"mcirc_over\"]  = df_over.at[i, 'jfactor']\n",
    "    log_df.at[i, \"mcirc_std\"]   = df_std.at[i, 'jfactor']\n",
    "    log_df.at[i, \"mcirc_under\"] = df_under.at[i, 'jfactor']\n",
    "    log_df.at[i, \"jctc\"]        = compdf.at[i, 'jfactor']\n",
    "\n",
    "del df_over, df_under, df_std\n",
    "log_df = log_df.astype(float)\n",
    "\n",
    "log_10_df = np.log10( log_df )\n",
    "del log_df"
   ]
  },
  {
   "cell_type": "code",
   "execution_count": 14,
   "id": "e89a73a6-1aae-4f7d-96f2-1bec08372679",
   "metadata": {},
   "outputs": [
    {
     "data": {
      "image/png": "[encoded data removed]",
      "text/plain": [
       "<Figure size 576x360 with 1 Axes>"
      ]
     },
     "metadata": {
      "needs_background": "light"
     },
     "output_type": "display_data"
    },
    {
     "data": {
      "text/plain": [
       "<Figure size 432x288 with 0 Axes>"
      ]
     },
     "metadata": {},
     "output_type": "display_data"
    }
   ],
   "source": [
    "fig, ax = plt.subplots(1,1,figsize=(8,5))\n",
    "\n",
    "log_10_df.reset_index().plot(kind='scatter', x='index', y='mcirc_over',\n",
    "                             label=\"over-wound\", marker='+', s=50, color='red', ax=ax)\n",
    "\n",
    "log_10_df.reset_index().plot(kind='scatter', x='index', y='mcirc_std',\n",
    "                             label=\"10.5 bp/turn\", marker='s', s=50, color='black', edgecolor='black', alpha=0.50, ax=ax)\n",
    "\n",
    "log_10_df.reset_index().plot(kind='scatter', x='index', y='mcirc_under',\n",
    "                             label=\"under-wound\", marker='x', s=50, color='green', ax=ax)\n",
    "\n",
    "log_10_df.reset_index().plot(kind='scatter', x='index', y='jctc',\n",
    "                             label=\"Czapla, JCTC\", marker='o', s=100, color='dodgerblue', edgecolor='black', alpha=0.50, ax=ax)\n",
    "\n",
    "ax.set_ylabel(\"${J}$ factor\", fontsize=14, style=\"normal\")\n",
    "ax.yaxis.set_major_locator(matplotlib.ticker.MultipleLocator(5))\n",
    "ax.yaxis.set_minor_locator(matplotlib.ticker.MultipleLocator(1))\n",
    "ax.yaxis.set_major_formatter(matplotlib.ticker.FormatStrFormatter(\"$10^{%d}$\"))\n",
    "ax.set_xlabel(\"Minicircle Size (bp)\", fontsize=14, style=\"normal\")\n",
    "ax.xaxis.set_major_locator(matplotlib.ticker.MultipleLocator(5))\n",
    "ax.xaxis.set_minor_locator(matplotlib.ticker.MultipleLocator(1))\n",
    "ax.get_legend().remove()\n",
    "handles, labels = ax.get_legend_handles_labels()\n",
    "lgd = fig.legend(handles, labels, loc=\"lower center\", bbox_to_anchor=(0.50, -0.06), fontsize=12, ncol=4)\n",
    "plt.tight_layout()\n",
    "\n",
    "plt.savefig(\"mcirc_jfactor_profiles_v1.png\", dpi=500, bbox_extra_artists=(lgd,), bbox_inches='tight')\n",
    "\n",
    "plt.show()\n",
    "plt.clf()"
   ]
  },
  {
   "cell_type": "code",
   "execution_count": null,
   "id": "a3b3665a-9d25-4774-bb0f-5b7d25c639b6",
   "metadata": {},
   "outputs": [],
   "source": []
  },
  {
   "cell_type": "code",
   "execution_count": null,
   "id": "reflected-responsibility",
   "metadata": {},
   "outputs": [],
   "source": []
  }
 ],
 "metadata": {
  "kernelspec": {
   "display_name": "Python 3 (ipykernel)",
   "language": "python",
   "name": "python3"
  },
  "language_info": {
   "codemirror_mode": {
    "name": "ipython",
    "version": 3
   },
   "file_extension": ".py",
   "mimetype": "text/x-python",
   "name": "python",
   "nbconvert_exporter": "python",
   "pygments_lexer": "ipython3",
   "version": "3.8.12"
  }
 },
 "nbformat": 4,
 "nbformat_minor": 5
}
