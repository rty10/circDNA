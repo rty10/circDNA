{
 "cells": [
  {
   "cell_type": "code",
   "execution_count": null,
   "metadata": {},
   "outputs": [],
   "source": [
    "import os, sys, math, scipy\n",
    "import pandas as pd\n",
    "import numpy as np\n",
    "\n",
    "sys.path.append(\"/home/rty10/Documents/scripts/analysis/\")\n",
    "import dna_analysis\n",
    "import circle_data_compile as opt_compile\n",
    "\n",
    "path = os.getcwd()\n",
    "\n",
    "#optpath = path + '/OPT_DATA'\n",
    "#optpath  = path + '/circular'\n",
    "#freepath = path + '/free_collection'\n",
    "#bxxpath  = path + '/bxx_circular'\n",
    "\n",
    "forcefieldpath = \"/home/rty10/Documents/forcefields\""
   ]
  },
  {
   "cell_type": "markdown",
   "metadata": {
    "jp-MarkdownHeadingCollapsed": true,
    "tags": []
   },
   "source": [
    "## Compile: all opt global data to single .csv"
   ]
  },
  {
   "cell_type": "code",
   "execution_count": null,
   "metadata": {
    "scrolled": true
   },
   "outputs": [],
   "source": [
    "circles = sorted([ i.split('.')[0] for i in os.listdir(optpath) if i.endswith('.log') ])\n",
    "\n",
    "NCIRC=336\n",
    "df = pd.DataFrame()\n",
    "\n",
    "for i in range(len(circles)):\n",
    "    name = circles[i]\n",
    "    \n",
    "    df.at[i,'length']   = NCIRC\n",
    "    df.at[i,'state']    = name.split('_')[0].split('-')[1]\n",
    "    df.at[i,'scdna']    = int(name.split('_')[0].split('-')[1][2:]) - 32\n",
    "    df.at[i,'sequence'] = 'zech-000'\n",
    "    if \"elcirc\" in name:\n",
    "        df.at[i,'config']      = 'circ'\n",
    "        df.at[i,'opt_electro'] = 'y'\n",
    "    else:\n",
    "        df.at[i,'config']      = 'circ'\n",
    "        df.at[i,'opt_electro'] = 'n'\n",
    "    \n",
    "    if 'IdealDNA' in name:\n",
    "        df.at[i,'forcefield'] = 'ideal'\n",
    "        df.at[i,'ff_type']    = 'dim'\n",
    "    else:\n",
    "        df.at[i,'forcefield'] = name.split('_')[1].split('-')[0]\n",
    "        df.at[i,'ff_type']    = name.split('_')[1].split('-')[1]\n",
    "    \n",
    "    df = opt_compile.log_file_data(optpath+'/'+name+'.log', i, df)\n",
    "    df = opt_compile.refframe_file_data(optpath+'/'+name+'.dat', i, df, NCIRC)\n",
    "    df = opt_compile.topology_file_data(optpath+'/topo_'+name+'.txt', i, df)        \n",
    "    del name\n",
    "    \n",
    "df['eopt_bend']=df.eopt_tilt+df.eopt_roll\n",
    "df[['length','lk', 'scdna']]=df[['length','lk','scdna']].astype(int)\n",
    "df = df.sort_values(by=['state','config','forcefield'])\n",
    "df = df.reset_index(drop=True)\n",
    "\n",
    "df.to_csv(datapath+\"/zech336_circ_dataset\")\n",
    "del df\n",
    "del circles"
   ]
  },
  {
   "cell_type": "code",
   "execution_count": null,
   "metadata": {},
   "outputs": [],
   "source": [
    "df = pd.read_csv(datapath+\"/zech336_circ_dataset\", index_col=0)\n",
    "\n",
    "df.head(10)"
   ]
  },
  {
   "cell_type": "code",
   "execution_count": null,
   "metadata": {},
   "outputs": [],
   "source": [
    "df.dtypes\n",
    "#del df"
   ]
  },
  {
   "cell_type": "markdown",
   "metadata": {
    "tags": []
   },
   "source": [
    "## Compile: all opt structural data to single .csv"
   ]
  },
  {
   "cell_type": "code",
   "execution_count": null,
   "metadata": {},
   "outputs": [],
   "source": [
    "circles = sorted([ i.split('.')[0] for i in os.listdir(path+\"/OPT_DATA\") if i.endswith('.par') ])\n",
    "\n",
    "NCIRC = 336\n",
    "\n",
    "for theta in ['tilt','roll','twist','shift','slide','rise']:\n",
    "    \n",
    "    df = pd.DataFrame(columns=[i for i in range(1, NCIRC+1)])\n",
    "    for i in range(len(circles)):\n",
    "        name = circles[i]\n",
    "\n",
    "        df.at[i,'length']   = NCIRC\n",
    "        df.at[i,'state']    = name.split('_')[0].split('-')[1]\n",
    "        df.at[i,'scdna']    = int(name.split('_')[0].split('-')[1][2:]) - 32\n",
    "\n",
    "        if \"elcirc\" in name:\n",
    "            df.at[i,'config']      = 'circ'\n",
    "            df.at[i,'opt_electro'] = 'y'\n",
    "            if len(name.split('_')[2].split('-')) == 2:\n",
    "                df.at[i,'sequence'] = name.split('_')[2].split('-')[1]\n",
    "            else:\n",
    "                df.at[i,'sequence'] = 'n000'\n",
    "        else:\n",
    "            df.at[i,'config']      = 'circ'\n",
    "            df.at[i,'opt_electro'] = 'n'\n",
    "            df.at[i,'sequence'] = 'n000'\n",
    "\n",
    "        if 'IdealDNA' in name:\n",
    "            df.at[i,'forcefield'] = 'ideal'\n",
    "            df.at[i,'ff_type']    = 'dim'\n",
    "        else:\n",
    "            df.at[i,'forcefield'] = name.split('_')[1].split('-')[0]\n",
    "            df.at[i,'ff_type']    = name.split('_')[1].split('-')[1]\n",
    "            \n",
    "        pardf = dna_analysis.df_read_bpsteppars(path+\"/OPT_DATA/\"+name+'.par', bend=False)        \n",
    "        \n",
    "        pardf = pardf[theta].drop([0],axis=0).T\n",
    "        \n",
    "        for j in range(1, NCIRC+1):\n",
    "            df.at[i, j] = pardf[j]\n",
    "        \n",
    "        del pardf, name\n",
    "        \n",
    "    df=df[['state','sequence','config','forcefield','ff_type']+[i for i in range(1, NCIRC+1)]]\n",
    "    \n",
    "    df.to_csv(path+\"/datasets/zech336_seq-thread_par-\"+theta+\"_dataset\")\n",
    "    del df\n",
    "del circles, NCIRC"
   ]
  },
  {
   "cell_type": "code",
   "execution_count": null,
   "metadata": {},
   "outputs": [],
   "source": [
    "NCIRC = 336\n",
    "\n",
    "df      = pd.DataFrame(columns=[i for i in range(1, NCIRC+1)])\n",
    "circles = sorted([ i.split('.')[0] for i in os.listdir(path+\"/OPT_DATA\") if i.endswith('.log') ])\n",
    "dataset = pd.read_csv(path+\"/datasets/zech336_circ-seq-thread_dataset\")\n",
    "\n",
    "for i in range(len(circles)):\n",
    "    name = circles[i]\n",
    "\n",
    "    df.at[i,'length']   = NCIRC\n",
    "    df.at[i,'state']    = name.split('_')[0].split('-')[1]\n",
    "    df.at[i,'scdna']    = int(name.split('_')[0].split('-')[1][2:]) - 32\n",
    "\n",
    "    if \"elcirc\" in name:\n",
    "        df.at[i,'config']      = 'circ'\n",
    "        df.at[i,'opt_electro'] = 'y'\n",
    "        if len(name.split('_')[2].split('-')) == 2:\n",
    "            df.at[i,'sequence'] = name.split('_')[2].split('-')[1]\n",
    "        else:\n",
    "            df.at[i,'sequence'] = 'n000'\n",
    "    else:\n",
    "        df.at[i,'config']      = 'circ'\n",
    "        df.at[i,'opt_electro'] = 'n'\n",
    "        df.at[i,'sequence'] = 'n000'\n",
    "\n",
    "    if 'IdealDNA' in name:\n",
    "        df.at[i,'forcefield'] = 'ideal'\n",
    "        df.at[i,'ff_type']    = 'dim'\n",
    "    else:\n",
    "        df.at[i,'forcefield'] = name.split('_')[1].split('-')[0]\n",
    "        df.at[i,'ff_type']    = name.split('_')[1].split('-')[1]\n",
    "    \n",
    "    pardf = dna_analysis.df_read_bpsteppars(path+\"/OPT_DATA/\"+name+'.par', bend=False)\n",
    "    \n",
    "    if 'tet' in name:\n",
    "        pardf = dna_analysis._par_tetrameric(pardf)\n",
    "    \n",
    "    if 'ideal' in name or 'Ideal' in name:\n",
    "        FORCEFIELD=\"IdealDNA\"\n",
    "    elif \"olson\" in name or 'Olson' in name:\n",
    "        FORCEFIELD=\"Olson1998\"\n",
    "    else:\n",
    "        FORCEFIELD=name.split('_')[1]\n",
    "    reststatedf = dna_analysis.df_read_intrinsic_state(forcefieldpath, FORCEFIELD)\n",
    "    forcecondf  = dna_analysis.df_read_force_constants(forcefieldpath, FORCEFIELD)\n",
    "    del FORCEFIELD\n",
    "\n",
    "    if 'tet' in name:\n",
    "        pardf = dna_analysis._par_energetic_analysis(pardf, reststatedf, forcecondf, tet=True)\n",
    "    else:\n",
    "        pardf = dna_analysis._par_energetic_analysis(pardf, reststatedf, forcecondf)\n",
    "        \n",
    "    for j in range(1, NCIRC+1):\n",
    "        df.at[i, j] = pardf.at[j, 'energy']\n",
    "    df.at[i, 'sum'] = df.loc[i][0:NCIRC].sum()\n",
    "    df.at[i, 'eopt']=dataset[(dataset['state']     == df.at[i, 'state'])\n",
    "                           &(dataset['sequence']   == df.at[i, 'sequence'])\n",
    "                           &(dataset['forcefield'] == df.at[i, 'forcefield'])\n",
    "                           &(dataset['ff_type']    == df.at[i, 'ff_type'])\n",
    "                           &(dataset['config']     == df.at[i, 'config'])\n",
    "                           &(dataset['opt_electro']== df.at[i, 'opt_electro'])].eopt.values[0]\n",
    "    del name\n",
    "    del pardf\n",
    "    del reststatedf, forcecondf\n",
    "\n",
    "df.to_csv(path+\"/datasets/zech336_circ-seq-threat-energy_dataset\")\n",
    "del df\n",
    "\n",
    "del dataset, circles, NCIRC"
   ]
  },
  {
   "cell_type": "code",
   "execution_count": null,
   "metadata": {},
   "outputs": [],
   "source": []
  },
  {
   "cell_type": "markdown",
   "metadata": {
    "jp-MarkdownHeadingCollapsed": true,
    "tags": []
   },
   "source": [
    "## Compile: all global optimized data from single-bound opt collection"
   ]
  },
  {
   "cell_type": "code",
   "execution_count": null,
   "metadata": {},
   "outputs": [],
   "source": [
    "circles = sorted([ i.split('.')[0] for i in os.listdir(bxxpath) if i.endswith('.log') ])\n",
    "\n",
    "NCIRC=336\n",
    "\n",
    "df = pd.DataFrame()\n",
    "\n",
    "for i in range(len(circles)):\n",
    "    name = circles[i]\n",
    "    \n",
    "    df.at[i,'length']   = NCIRC\n",
    "    df.at[i,'state']    = name.split('_')[0].split('-')[1]\n",
    "    df.at[i,'scdna']    = int(name.split('_')[0].split('-')[1][2:]) - 32\n",
    "    df.at[i,'sequence'] = int(name.split('_')[2].lstrip('seq'))\n",
    "    \n",
    "    df.at[i,'config']      = 'circ'\n",
    "    df.at[i,'opt_electro'] = 'n'\n",
    "    \n",
    "    df.at[i,'forcefield'] = name.split('_')[3].split('-')[0]\n",
    "    df.at[i,'ff_type']    = name.split('_')[3].split('-')[1]\n",
    "    \n",
    "    df = opt_compile.log_file_data(bxxpath+'/'+name+'.log', i, df)\n",
    "    df = opt_compile.refframe_file_data(bxxpath+'/'+name+'.dat', i, df, NCIRC)\n",
    "    df = opt_compile.topology_file_data(bxxpath+'/topo_'+name+'.txt', i, df)        \n",
    "    del name\n",
    "    \n",
    "df['eopt_bend']=df.eopt_tilt+df.eopt_roll\n",
    "df[['length','lk', 'scdna']]=df[['length','lk','scdna']].astype(int)\n",
    "df = df.sort_values(by=['state','config','forcefield'])\n",
    "df = df.reset_index(drop=True)\n",
    "\n",
    "df.to_csv(datapath+\"/zech336_bxx-circ_dataset\")\n",
    "del df\n",
    "del circles"
   ]
  },
  {
   "cell_type": "code",
   "execution_count": null,
   "metadata": {},
   "outputs": [],
   "source": []
  },
  {
   "cell_type": "code",
   "execution_count": null,
   "metadata": {},
   "outputs": [],
   "source": []
  },
  {
   "cell_type": "code",
   "execution_count": null,
   "metadata": {},
   "outputs": [],
   "source": []
  },
  {
   "cell_type": "code",
   "execution_count": null,
   "metadata": {},
   "outputs": [],
   "source": []
  },
  {
   "cell_type": "markdown",
   "metadata": {
    "jp-MarkdownHeadingCollapsed": true,
    "tags": []
   },
   "source": [
    "## Compile: all opt BXX structural data to single .csv"
   ]
  },
  {
   "cell_type": "code",
   "execution_count": null,
   "metadata": {},
   "outputs": [],
   "source": [
    "circles = sorted([ i.split('.')[0] for i in os.listdir(bxxpath) if i.endswith('.par') ])\n",
    "\n",
    "NCIRC = 336\n",
    "\n",
    "for theta in ['tilt','roll','twist','shift','slide','rise']:\n",
    "    \n",
    "    df = pd.DataFrame(columns=[i for i in range(1, NCIRC+1)])\n",
    "    for i in range(len(circles)):\n",
    "        name = circles[i]\n",
    "\n",
    "        df.at[i,'length']   = NCIRC\n",
    "        df.at[i,'state']    = name.split('_')[0].split('-')[1]\n",
    "        df.at[i,'scdna']    = int(name.split('_')[0].split('-')[1][2:]) - 32\n",
    "        df.at[i,'sequence'] = int(name.split('_')[2].lstrip('seq'))\n",
    "        \n",
    "        df.at[i,'config']      = 'circ'\n",
    "        df.at[i,'opt_electro'] = 'n'\n",
    "\n",
    "        df.at[i,'forcefield']  = name.split('_')[3].split('-')[0]\n",
    "        df.at[i,'ff_type']     = name.split('_')[3].split('-')[1]\n",
    "        \n",
    "        pardf = dna_analysis.df_read_bpsteppars(bxxpath+'/'+name+'.par', bend=False)\n",
    "        pardf = pardf[theta].drop([0],axis=0).T\n",
    "        \n",
    "        for j in range(1, NCIRC+1):\n",
    "            df.at[i, j] = pardf[j]\n",
    "        \n",
    "        del pardf, name\n",
    "        \n",
    "    df=df[['state','sequence','config','forcefield','ff_type']+[i for i in range(1, NCIRC+1)]]\n",
    "    \n",
    "    df.to_csv(datapath+\"/zech336_bxx-par-\"+theta+\"_dataset\")\n",
    "    del df\n",
    "del circles, NCIRC"
   ]
  },
  {
   "cell_type": "code",
   "execution_count": null,
   "metadata": {},
   "outputs": [],
   "source": [
    "NCIRC = 336\n",
    "\n",
    "df      = pd.DataFrame(columns=[i for i in range(1, NCIRC+1)])\n",
    "circles = sorted([ i.split('.')[0] for i in os.listdir(bxxpath) if i.endswith('.log') ])\n",
    "dataset = pd.read_csv(datapath+\"/zech336_bxx-circ_dataset\", index_col=0)\n",
    "\n",
    "for i in range(len(circles)):\n",
    "    name = circles[i]\n",
    "\n",
    "    df.at[i,'length']   = NCIRC\n",
    "    df.at[i,'state']    = name.split('_')[0].split('-')[1]\n",
    "    df.at[i,'scdna']    = int(name.split('_')[0].split('-')[1][2:]) - 32\n",
    "    df.at[i,'sequence'] = int(name.split('_')[2].lstrip('seq'))\n",
    "\n",
    "    df.at[i,'config']      = 'circ'\n",
    "    df.at[i,'opt_electro'] = 'n'\n",
    "\n",
    "    df.at[i,'forcefield']  = name.split('_')[3].split('-')[0]\n",
    "    df.at[i,'ff_type']     = name.split('_')[3].split('-')[1]\n",
    "    \n",
    "    pardf = dna_analysis.df_read_bpsteppars(bxxpath+'/'+name+'.par', bend=False)\n",
    "    \n",
    "    if 'tet' in name:\n",
    "        pardf = dna_analysis._par_tetrameric(pardf)\n",
    "    \n",
    "    if 'ideal' in name or 'Ideal' in name:\n",
    "        FORCEFIELD=\"IdealDNA\"\n",
    "    elif \"olson\" in name or 'Olson' in name:\n",
    "        FORCEFIELD=\"Olson1998\"\n",
    "    else:\n",
    "        FORCEFIELD=name.split('_')[3]\n",
    "    reststatedf = dna_analysis.df_read_intrinsic_state(forcefieldpath, FORCEFIELD)\n",
    "    forcecondf  = dna_analysis.df_read_force_constants(forcefieldpath, FORCEFIELD)\n",
    "    del FORCEFIELD\n",
    "\n",
    "    if 'tet' in name:\n",
    "        pardf = dna_analysis._par_energetic_analysis(pardf, reststatedf, forcecondf, tet=True)\n",
    "    else:\n",
    "        pardf = dna_analysis._par_energetic_analysis(pardf, reststatedf, forcecondf)\n",
    "        \n",
    "    for j in range(1, NCIRC+1):\n",
    "        df.at[i, j] = pardf.at[j, 'energy']\n",
    "    df.at[i, 'sum'] = df.loc[i][0:NCIRC].sum()\n",
    "    df.at[i, 'eopt']=dataset[(dataset['state']     == df.at[i, 'state'])\n",
    "                           &(dataset['sequence']   == df.at[i, 'sequence'])\n",
    "                           &(dataset['forcefield'] == df.at[i, 'forcefield'])\n",
    "                           &(dataset['ff_type']    == df.at[i, 'ff_type'])\n",
    "                           &(dataset['config']     == df.at[i, 'config'])\n",
    "                           &(dataset['opt_electro']== df.at[i, 'opt_electro'])].eopt.values[0]\n",
    "    del name\n",
    "    del pardf\n",
    "    del reststatedf, forcecondf\n",
    "\n",
    "df.to_csv(datapath+\"/zech336_bxx-circ-energy_dataset\")\n",
    "del df\n",
    "\n",
    "del circles, NCIRC"
   ]
  },
  {
   "cell_type": "code",
   "execution_count": null,
   "metadata": {},
   "outputs": [],
   "source": []
  },
  {
   "cell_type": "markdown",
   "metadata": {},
   "source": [
    "## scratch"
   ]
  },
  {
   "cell_type": "code",
   "execution_count": null,
   "metadata": {},
   "outputs": [],
   "source": [
    "optpath84  = path + '/OPT_DATA'\n",
    "\n",
    "circles = sorted([ i.split('.')[0] for i in os.listdir(optpath84) if i.endswith('.log') ])\n",
    "\n",
    "NCIRC=336\n",
    "df = pd.DataFrame()\n",
    "\n",
    "for i in range(len(circles)):\n",
    "    name = circles[i]\n",
    "    \n",
    "    df.at[i,'length']   = NCIRC\n",
    "    df.at[i,'state']    = name.split('_')[0].split('-')[1]\n",
    "    df.at[i,'scdna']    = int(name.split('_')[0].split('-')[1][2:]) - 32\n",
    "    \n",
    "    if \"elcirc\" in name:\n",
    "        df.at[i,'config']      = 'circ'\n",
    "        df.at[i,'opt_electro'] = 'y'\n",
    "        if len(name.split('_')[2].split('-')) == 2:\n",
    "            df.at[i,'sequence'] = name.split('_')[2].split('-')[1]\n",
    "        else:\n",
    "            df.at[i,'sequence'] = 'n000'\n",
    "    else:\n",
    "        df.at[i,'config']      = 'circ'\n",
    "        df.at[i,'opt_electro'] = 'n'\n",
    "        df.at[i,'sequence'] = 'n000'\n",
    "    \n",
    "    if 'IdealDNA' in name:\n",
    "        df.at[i,'forcefield'] = 'ideal'\n",
    "        df.at[i,'ff_type']    = 'dim'\n",
    "    else:\n",
    "        df.at[i,'forcefield'] = name.split('_')[1].split('-')[0]\n",
    "        df.at[i,'ff_type']    = name.split('_')[1].split('-')[1]\n",
    "    \n",
    "    df = opt_compile.log_file_data(optpath84+'/'+name+'.log', i, df)\n",
    "    df = opt_compile.refframe_file_data(optpath84+'/'+name+'.dat', i, df, NCIRC)\n",
    "    df = opt_compile.topology_file_data(optpath84+'/topo_'+name+'.txt', i, df)        \n",
    "    del name\n",
    "    \n",
    "df['eopt_bend']=df.eopt_tilt+df.eopt_roll\n",
    "df[['length','lk', 'scdna']]=df[['length','lk','scdna']].astype(int)\n",
    "df = df.sort_values(by=['state','config','forcefield'])\n",
    "df = df.reset_index(drop=True)\n",
    "\n",
    "#df.to_csv(datapath+\"/zech336_circ_dataset\")\n",
    "#del df\n",
    "del circles"
   ]
  },
  {
   "cell_type": "code",
   "execution_count": null,
   "metadata": {},
   "outputs": [],
   "source": [
    "df"
   ]
  },
  {
   "cell_type": "code",
   "execution_count": null,
   "metadata": {},
   "outputs": [],
   "source": [
    "df[(df.forcefield=='young2022')&(df.scdna==-3)]"
   ]
  },
  {
   "cell_type": "code",
   "execution_count": null,
   "metadata": {},
   "outputs": [],
   "source": [
    "df[(df.state=='st34')&(df.forcefield==\"young2022\")&(df.ff_type==\"tet\")]"
   ]
  },
  {
   "cell_type": "code",
   "execution_count": null,
   "metadata": {},
   "outputs": [],
   "source": [
    "df[(df.state=='st35')&(df.forcefield==\"young2022\")&(df.ff_type==\"tet\")]"
   ]
  },
  {
   "cell_type": "code",
   "execution_count": null,
   "metadata": {},
   "outputs": [],
   "source": [
    "df[['state','lk']]"
   ]
  },
  {
   "cell_type": "code",
   "execution_count": null,
   "metadata": {},
   "outputs": [],
   "source": [
    "df.to_csv(path+\"/datasets/zech336_circ-seq-thread_dataset\")\n",
    "del df"
   ]
  },
  {
   "cell_type": "code",
   "execution_count": null,
   "metadata": {},
   "outputs": [],
   "source": []
  }
 ],
 "metadata": {
  "kernelspec": {
   "display_name": "Python 3 (ipykernel)",
   "language": "python",
   "name": "python3"
  },
  "language_info": {
   "codemirror_mode": {
    "name": "ipython",
    "version": 3
   },
   "file_extension": ".py",
   "mimetype": "text/x-python",
   "name": "python",
   "nbconvert_exporter": "python",
   "pygments_lexer": "ipython3",
   "version": "3.9.12"
  }
 },
 "nbformat": 4,
 "nbformat_minor": 4
}
