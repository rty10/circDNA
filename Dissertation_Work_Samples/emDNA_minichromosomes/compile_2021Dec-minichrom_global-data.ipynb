{
 "cells": [
  {
   "cell_type": "code",
   "execution_count": null,
   "metadata": {},
   "outputs": [],
   "source": [
    "import os, sys, math, scipy\n",
    "import pandas as pd\n",
    "import numpy as np\n",
    "from scipy.spatial import distance\n",
    "\n",
    "path = os.getcwd()\n",
    "optpath = path + '/optimization_data'\n"
   ]
  },
  {
   "cell_type": "code",
   "execution_count": null,
   "metadata": {},
   "outputs": [],
   "source": [
    "if 'Young_Research' in path:\n",
    "    sys.path.append(\"C:\\\\Users\\\\Young_Research\\\\Documents\\\\Rutgers\\\\Research\\\\Scripts\\\\analysis\\\\\")\n",
    "    ncppath = \"C:\\\\Users\\\\Young_Research\\\\Documents\\\\Rutgers\\\\Research\\\\nuc_database\\\\\"\n",
    "else:\n",
    "    sys.path.append(\"/home/rty10/Documents/scripts/analysis/\")\n",
    "    ncppath = '/home/rty10/Documents/nuc_database/'\n",
    "import dna_analysis\n",
    "\n",
    "# Make sure to import ncms_data_compile to collect westcott angle information for minichrom circles\n",
    "#import circle_data_compile as opt_compile\n",
    "import ncms_data_compile as opt_compile\n",
    "\n",
    "ncpcluster = pd.read_csv(ncppath+\"ncps_twclusters_ry.csv\", index_col=False)\n",
    "NCPID = {ncpcluster.at[i, 'pdb_id']:ncpcluster.at[i, 'twist_cluster'] for i in range(len(ncpcluster))}\n",
    "del ncpcluster"
   ]
  },
  {
   "cell_type": "markdown",
   "metadata": {},
   "source": [
    "# Compile: all opt data to single .csv"
   ]
  },
  {
   "cell_type": "code",
   "execution_count": null,
   "metadata": {},
   "outputs": [],
   "source": [
    "loop_startpts = {'n336':141, 'n341':141, 'n359':141}\n",
    "loop_midpts   = {'n336':141+int((336-141)/2),'n341':141+int((341-141)/2), 'n359':141+int((359-141)/2)}\n",
    "loop_endpts   = {'n336':336, 'n341':341, 'n359':359}"
   ]
  },
  {
   "cell_type": "code",
   "execution_count": null,
   "metadata": {},
   "outputs": [],
   "source": [
    "CSV_NAME = \"2021Dec_ncms_delLK_n336\""
   ]
  },
  {
   "cell_type": "code",
   "execution_count": null,
   "metadata": {},
   "outputs": [],
   "source": [
    "circles = [ filename.split('.')[0] for filename in os.listdir(optpath) if filename.endswith('.log') ]\n",
    "\n",
    "circles=sorted(circles)\n",
    "\n",
    "print(circles[0:5])\n"
   ]
  },
  {
   "cell_type": "code",
   "execution_count": null,
   "metadata": {},
   "outputs": [],
   "source": [
    "# Error checkings\n",
    "for filename in sorted(os.listdir(optpath)):\n",
    "    if filename.endswith('.log'):\n",
    "        \n",
    "        infile = open(optpath+'/'+filename, \"r\")\n",
    "        data = infile.readlines()\n",
    "        data = [i.rstrip('\\n') for i in data]\n",
    "        infile.close()        \n",
    "        for line in data:\n",
    "            if 'return code: ' in line:\n",
    "                if line.split(': ')[1] != 'EPSG':\n",
    "                    print(filename, line.split(':')[1])\n",
    "\n",
    "        del data"
   ]
  },
  {
   "cell_type": "code",
   "execution_count": null,
   "metadata": {
    "scrolled": true,
    "tags": []
   },
   "outputs": [],
   "source": [
    "df = pd.DataFrame()\n",
    "Nnuc = 141\n",
    "for i in range(len(circles)):\n",
    "    name = circles[i]    \n",
    "    df.at[name, 'nuc']        = name.split('_')[0]\n",
    "    df.at[name, 'lko']        = int( name.split('_')[2][2:] )\n",
    "    L_ncms = int( name.split('_')[1].lstrip('n') )\n",
    "    L_loop = L_ncms - int(Nnuc) #breathdict[ name.split('_')[3] ][0]\n",
    "    df.at[name, 'ncms_size']  = L_ncms\n",
    "    df.at[name, 'looplen']    = L_loop\n",
    "    df.at[name, 'nuc_turns']   = (L_ncms - L_loop)/80\n",
    "    df.at[name, 'twist_cluster'] = NCPID[name.split('_')[0]]\n",
    "    \n",
    "    df = opt_compile.log_file_data(optpath+'/'+name+'.log', name, df)\n",
    "    df = opt_compile.topology_file_data(optpath+'/topo_'+name+'.txt', name, df)    \n",
    "    df = opt_compile.refframe_file_data(optpath+'/'+name+'.dat', name, df,\n",
    "                                        L_ncms, L_loop, \n",
    "                                        loop_startpts[name.split('_')[1]], \n",
    "                                        loop_midpts[name.split('_')[1]],\n",
    "                                        loop_endpts[name.split('_')[1]])\n",
    "    del L_ncms, L_loop, name\n",
    "\n",
    "df['sh_density'] = (df['lk']-(df['ncms_size']/10.5))/(df['ncms_size']/10.5)\n",
    "\n",
    "df[['lko','ncms_size','looplen','twist_cluster']] = df[['lko','ncms_size','looplen','twist_cluster']].astype(int)\n",
    "df = df.sort_values(by=['nuc','lko'])\n",
    "df = df.reset_index(drop=True)\n",
    "del Nnuc\n",
    "df.to_csv(CSV_NAME)\n",
    "df.head(10)"
   ]
  },
  {
   "cell_type": "code",
   "execution_count": null,
   "metadata": {},
   "outputs": [],
   "source": [
    "#CHECK if datafile was saved to .csv file\n",
    "\n",
    "del df\n",
    "df = pd.read_csv(CSV_NAME, index_col=0)\n",
    "df.head(10)\n"
   ]
  },
  {
   "cell_type": "code",
   "execution_count": null,
   "metadata": {},
   "outputs": [],
   "source": [
    "del df, circles"
   ]
  },
  {
   "cell_type": "code",
   "execution_count": null,
   "metadata": {},
   "outputs": [],
   "source": [
    "df = pd.read_csv(CSV_NAME, index_col=0)\n",
    "lst = df.nuc.unique()\n",
    "\n",
    "df['exp_eopt']         = np.exp(-1*df['eopt'])\n",
    "df['exp_eopt_elastic'] = np.exp(-1*df['eopt_elastic'])\n",
    "df['partition_eopt']         = np.nan\n",
    "df['partition_eopt_elastic'] = np.nan\n",
    "\n",
    "for i in range(len(lst)):\n",
    "    df1 = df.copy()\n",
    "    df1 = df1[df1.nuc==lst[i]]\n",
    "    INDEX = df1.index.values.tolist()\n",
    "    A = df1['exp_eopt'].sum()\n",
    "    B = df1['exp_eopt_elastic'].sum()\n",
    "    for j in INDEX:\n",
    "        df.at[j, 'partition_eopt']         = df1.at[j, 'exp_eopt']/A\n",
    "        df.at[j, 'partition_eopt_elastic'] = df1.at[j, 'exp_eopt_elastic']/B\n",
    "    del df1, INDEX, A, B\n",
    "\n",
    "df.to_csv(CSV_NAME)\n",
    "del lst, df"
   ]
  },
  {
   "cell_type": "code",
   "execution_count": null,
   "metadata": {},
   "outputs": [],
   "source": [
    "df = pd.read_csv(CSV_NAME, index_col=0)\n",
    "df"
   ]
  },
  {
   "cell_type": "markdown",
   "metadata": {},
   "source": [
    "### Error Checking (29 Dec 2021)"
   ]
  },
  {
   "cell_type": "code",
   "execution_count": null,
   "metadata": {},
   "outputs": [],
   "source": [
    "#CHECK if datafile was saved to .csv file\n",
    "\n",
    "df = pd.read_csv(CSV_NAME, index_col=0)\n",
    "infile = open(\"ncpid_list_2021Apr.txt\", \"r\")\n",
    "indata = infile.readlines()\n",
    "infile.close()\n",
    "indata = [i.strip('\\n') for i in indata]\n",
    "NCPS   = sorted(df.nuc.unique().tolist())\n",
    "\n",
    "[print(i) for i in indata if i not in NCPS]\n",
    "\n",
    "del indata, NCPS, df\n"
   ]
  },
  {
   "cell_type": "code",
   "execution_count": null,
   "metadata": {},
   "outputs": [],
   "source": []
  },
  {
   "cell_type": "code",
   "execution_count": null,
   "metadata": {},
   "outputs": [],
   "source": []
  }
 ],
 "metadata": {
  "kernelspec": {
   "display_name": "Python 3 (ipykernel)",
   "language": "python",
   "name": "python3"
  },
  "language_info": {
   "codemirror_mode": {
    "name": "ipython",
    "version": 3
   },
   "file_extension": ".py",
   "mimetype": "text/x-python",
   "name": "python",
   "nbconvert_exporter": "python",
   "pygments_lexer": "ipython3",
   "version": "3.8.12"
  }
 },
 "nbformat": 4,
 "nbformat_minor": 4
}
